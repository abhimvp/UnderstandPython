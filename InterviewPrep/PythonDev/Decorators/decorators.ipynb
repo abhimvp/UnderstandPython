{
 "cells": [
  {
   "cell_type": "markdown",
   "id": "1e5866b1",
   "metadata": {},
   "source": [
    "- we have previously seen these two `@classmethod` & `@staticmethod` - so these are decorators \n",
    "- functions in python act like variables - let's look at small example about that."
   ]
  },
  {
   "cell_type": "code",
   "execution_count": null,
   "id": "7e36d6d0",
   "metadata": {},
   "outputs": [
    {
     "name": "stdout",
     "output_type": "stream",
     "text": [
      "hellloooooooo\n",
      "None\n"
     ]
    }
   ],
   "source": [
    "def helllo():\n",
    "    print(\"hellloooooooo\")\n",
    "\n",
    "greet = helllo # making greet reference the helllo function in memory & function is just a variable here\n",
    "del helllo # it just deletes the reference to the function, not the function itself\n",
    "# the function is still there, just not accessible by the name helllo\n",
    "\n",
    "print(greet())"
   ]
  },
  {
   "cell_type": "code",
   "execution_count": null,
   "id": "32526cec",
   "metadata": {},
   "outputs": [
    {
     "name": "stdout",
     "output_type": "stream",
     "text": [
      "still here!\n",
      "None\n"
     ]
    }
   ],
   "source": [
    "# let's look at this in a different way\n",
    "def hello(func):\n",
    "    func()\n",
    "\n",
    "\n",
    "def greet():\n",
    "    print(\"still here!\")\n",
    "\n",
    "\n",
    "a = hello(\n",
    "    greet\n",
    ")  # this is a function that takes another function as an argument and calls it\n",
    "print(a)  # this will print None because the function doesn't return anything"
   ]
  },
  {
   "cell_type": "markdown",
   "id": "51aa1629",
   "metadata": {},
   "source": [
    "- decorator is only possible because of the above features.This ability of functions to act like variables.\n",
    "- decorators supercharge our functions & add extra functionality to it.let the python interpreter know that i have extra features to this function.\n",
    "- Higher order functions (HOC):\n",
    "  - can be a function that accepts another function inside of it's parameters like above `hello(greet)` - this is a Higher order function\n",
    "  - another one is a function that returns another function, example like\n",
    "\n",
    "```py\n",
    "def greet2():\n",
    "    def func():\n",
    "        return 5\n",
    "    return func\n",
    "```\n",
    "\n",
    "- map(which_accepts_a_func,iterable)  - is also a HOC\n"
   ]
  },
  {
   "cell_type": "code",
   "execution_count": null,
   "id": "39b863c2",
   "metadata": {},
   "outputs": [
    {
     "name": "stdout",
     "output_type": "stream",
     "text": [
      "*********\n",
      "hello\n",
      "*********\n",
      "----------------------\n",
      "*********\n",
      "*********\n",
      "hello\n",
      "*********\n",
      "*********\n",
      "----------------------\n",
      "*********\n",
      "bye\n",
      "*********\n"
     ]
    }
   ],
   "source": [
    "# write our own decorator - it's simply a function that wraps another function and adds functionality to it\n",
    "\n",
    "\n",
    "def my_decorator(func):\n",
    "    def wrap_func():\n",
    "        print(\"*********\")\n",
    "        func()\n",
    "        print(\"*********\")\n",
    "\n",
    "    return wrap_func\n",
    "\n",
    "\n",
    "@my_decorator\n",
    "def hello():\n",
    "    print(\"hello\")\n",
    "\n",
    "\n",
    "hello()  # superboosted hello function\n",
    "print(\"----------------------\")\n",
    "# this is the same as doing this:\n",
    "hello2 = my_decorator(hello)\n",
    "hello2()\n",
    "print(\"----------------------\")\n",
    "\n",
    "\n",
    "@my_decorator\n",
    "def bye():\n",
    "    print(\"bye\")\n",
    "\n",
    "\n",
    "bye()  # superboosted bye function\n",
    "\n",
    "#  by using @decorator_name syntax above a function we are adding extra functionality to it without modifying the function itself.\n",
    "# this is a very powerful concept in python and is used a lot in web frameworks like Flask and Django"
   ]
  },
  {
   "cell_type": "code",
   "execution_count": null,
   "id": "b94512c1",
   "metadata": {},
   "outputs": [
    {
     "name": "stdout",
     "output_type": "stream",
     "text": [
      "hello John\n",
      "----------------------\n"
     ]
    }
   ],
   "source": [
    "# decorator pattern - it gives our decorator flexibility\n",
    "def decorator_with_args(func):\n",
    "    def wrap_func(*args, **kwargs):\n",
    "        # print('*********')\n",
    "        func(*args, **kwargs)\n",
    "        # print('*********')\n",
    "\n",
    "    return wrap_func\n",
    "\n",
    "\n",
    "@decorator_with_args\n",
    "def hello(name):\n",
    "    print(f\"hello {name}\")\n",
    "\n",
    "\n",
    "hello(\"John\")  # superboosted hello function with args\n",
    "print(\"----------------------\")"
   ]
  },
  {
   "cell_type": "code",
   "execution_count": null,
   "id": "d1491af9",
   "metadata": {},
   "outputs": [
    {
     "name": "stdout",
     "output_type": "stream",
     "text": [
      "took 7.094059705734253 s\n",
      "----------------------\n"
     ]
    }
   ],
   "source": [
    "# why do we need decorators?\n",
    "# 1. logging - we can log the time it takes to run a function\n",
    "# 2. authentication - we can check if a user is authenticated before allowing them to access a function\n",
    "# 3. caching - we can cache the result of a function to speed up future calls\n",
    "# 4. validation - we can validate the input to a function before allowing it to run\n",
    "# 5. monitoring - we can monitor the performance of a function and log it to a file or database\n",
    "# 6. error handling - we can handle errors in a function and log them to a file or database\n",
    "from time import time\n",
    "\n",
    "\n",
    "def performance(fn):\n",
    "    def wrapper(*args, **kwargs):\n",
    "        t1 = time()\n",
    "        result = fn(*args, **kwargs)\n",
    "        t2 = time()\n",
    "        print(f\"took {t2-t1} s\")\n",
    "        return result\n",
    "\n",
    "    return wrapper\n",
    "\n",
    "\n",
    "@performance\n",
    "def long_time():\n",
    "    for i in range(100000000):\n",
    "        i * 5\n",
    "\n",
    "\n",
    "long_time()  # this will take a while to run and will print the time it took to run the function\n",
    "print(\"----------------------\")"
   ]
  },
  {
   "cell_type": "code",
   "execution_count": null,
   "id": "cb6f298b",
   "metadata": {},
   "outputs": [
    {
     "name": "stdout",
     "output_type": "stream",
     "text": [
      "{'name': 'Sorna', 'valid': False}\n",
      "False\n",
      "user not authenticated\n"
     ]
    }
   ],
   "source": [
    "# Create an @authenticated decorator that only allows the function to run is user1 has 'valid' set to True:\n",
    "user1 = {\n",
    "    \"name\": \"Sorna\",\n",
    "    \"valid\": False,  # changing this will either run or not run the message_friends function.\n",
    "}\n",
    "\n",
    "\n",
    "def authenticated(fn):\n",
    "    # code here\n",
    "    def wrapper(*args, **kwargs):\n",
    "        print(args[0])\n",
    "        print(args[0][\"valid\"])\n",
    "        if args[0][\"valid\"]:\n",
    "            return fn(*args, **kwargs)\n",
    "        else:\n",
    "            print(\"user not authenticated\")\n",
    "\n",
    "    return wrapper\n",
    "\n",
    "\n",
    "@authenticated\n",
    "def message_friends(user):\n",
    "    print(\"message has been sent\")\n",
    "\n",
    "\n",
    "message_friends(user1)"
   ]
  },
  {
   "cell_type": "code",
   "execution_count": null,
   "id": "49552a0a",
   "metadata": {},
   "outputs": [],
   "source": []
  }
 ],
 "metadata": {
  "kernelspec": {
   "display_name": "Python 3",
   "language": "python",
   "name": "python3"
  },
  "language_info": {
   "codemirror_mode": {
    "name": "ipython",
    "version": 3
   },
   "file_extension": ".py",
   "mimetype": "text/x-python",
   "name": "python",
   "nbconvert_exporter": "python",
   "pygments_lexer": "ipython3",
   "version": "3.12.10"
  }
 },
 "nbformat": 4,
 "nbformat_minor": 5
}
