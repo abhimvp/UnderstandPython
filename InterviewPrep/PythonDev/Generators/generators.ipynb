{
 "cells": [
  {
   "cell_type": "markdown",
   "id": "d5dfb8bc",
   "metadata": {},
   "source": [
    "- generators - allows us to create sequence of values over time , example : `range(100)` - it is a generator\n",
    "- generator is a special type of thing in python , that allows us to use a special keyword called `yield` & it can pause and resume functions."
   ]
  },
  {
   "cell_type": "code",
   "execution_count": 1,
   "id": "2687958b",
   "metadata": {},
   "outputs": [
    {
     "name": "stdout",
     "output_type": "stream",
     "text": [
      "[0, 2, 4, 6, 8, 10, 12, 14, 16, 18]\n"
     ]
    }
   ],
   "source": [
    "def make_list(num):\n",
    "    result = []\n",
    "    for i in range(num):\n",
    "        result.append(i*2)\n",
    "    return result\n",
    "\n",
    "\n",
    "my_list = make_list(10)\n",
    "print(my_list)"
   ]
  },
  {
   "cell_type": "code",
   "execution_count": 2,
   "id": "2786c3a5",
   "metadata": {},
   "outputs": [
    {
     "data": {
      "text/plain": [
       "4"
      ]
     },
     "execution_count": 2,
     "metadata": {},
     "output_type": "execute_result"
    }
   ],
   "source": [
    "# the list above that got printed lives in memory\n",
    "# the range above is a generator object , where the values are not stored in memory & gives values on demand - one at a time \n",
    "#  iterable? - any object in python that can be iterated over/loop through (like a list, tuple, set, dict, string), underneath the hood it has dunder\n",
    "# __iter__ method, which returns an iterator object to loop through the object\n",
    "# generators are actually iterable, but they are not lists, they are a special type of iterable that is created using a function with the yield keyword\n",
    "# the yield keyword is used to create a generator function, which returns a generator object when called\n",
    "\n",
    "def generator_function(num):\n",
    "    for i in range(num):\n",
    "        yield i * 2 # instead of return we use yield, yield pauses the function and comes back to it when next() is called\n",
    "\n",
    "g = generator_function(100)\n",
    "next(g) # 0\n",
    "next(g) # 2\n",
    "next(g) # 4\n",
    "# the generator function is paused at the yield statement, and when next() is called again, it resumes from where it left off"
   ]
  },
  {
   "cell_type": "code",
   "execution_count": 3,
   "id": "285832a6",
   "metadata": {},
   "outputs": [
    {
     "data": {
      "text/plain": [
       "6"
      ]
     },
     "execution_count": 3,
     "metadata": {},
     "output_type": "execute_result"
    }
   ],
   "source": [
    "next(g)"
   ]
  },
  {
   "cell_type": "code",
   "execution_count": 4,
   "id": "293ec087",
   "metadata": {},
   "outputs": [
    {
     "data": {
      "text/plain": [
       "8"
      ]
     },
     "execution_count": 4,
     "metadata": {},
     "output_type": "execute_result"
    }
   ],
   "source": [
    "next(g)"
   ]
  },
  {
   "cell_type": "code",
   "execution_count": 6,
   "id": "d07ab1ab",
   "metadata": {},
   "outputs": [
    {
     "name": "stdout",
     "output_type": "stream",
     "text": [
      "0\n",
      "2\n",
      "4\n",
      "6\n",
      "8\n",
      "10\n",
      "12\n",
      "14\n",
      "16\n",
      "18\n"
     ]
    }
   ],
   "source": [
    "for item in generator_function(10):\n",
    "    print(item) # prints 0, 2, 4, 6, 8, 10, 12, 14, 16, 18"
   ]
  },
  {
   "cell_type": "code",
   "execution_count": 7,
   "id": "a4d9e54a",
   "metadata": {},
   "outputs": [
    {
     "name": "stdout",
     "output_type": "stream",
     "text": [
      "<generator object generator_function at 0x000002149E4FC860>\n",
      "10\n"
     ]
    }
   ],
   "source": [
    "print(g)\n",
    "print(next(g))"
   ]
  },
  {
   "cell_type": "code",
   "execution_count": 8,
   "id": "548bbdd6",
   "metadata": {},
   "outputs": [
    {
     "name": "stdout",
     "output_type": "stream",
     "text": [
      "12\n"
     ]
    }
   ],
   "source": [
    "print(next(g))"
   ]
  },
  {
   "cell_type": "code",
   "execution_count": 9,
   "id": "76812aaa",
   "metadata": {},
   "outputs": [
    {
     "name": "stdout",
     "output_type": "stream",
     "text": [
      "Generator size: 200 bytes\n",
      "List size: 8448728 bytes\n",
      "Generator values:\n",
      "0 1 2 3 4 5 6 7 8 9 \n",
      "List values:\n",
      "0 1 2 3 4 5 6 7 8 9 "
     ]
    }
   ],
   "source": [
    "# generators performance\n",
    "# generators are more memory efficient than lists, because they don't store all the values in memory at once, they generate them on the fly\n",
    "def generate_numbers(n):\n",
    "    \"\"\"Generator yielding numbers up to n\"\"\"\n",
    "    for i in range(n):\n",
    "        yield i\n",
    "\n",
    "def list_numbers(n): \n",
    "    \"\"\"Returns list of numbers up to n\"\"\"\n",
    "    \n",
    "    return [i for i in range(n)]\n",
    "\n",
    "def memory_comparison(n):\n",
    "    \"\"\"Compare memory usage between generator and list\"\"\"\n",
    "    import sys\n",
    "    gen = generate_numbers(n)\n",
    "    lst = list_numbers(n)\n",
    "    gen_size = sys.getsizeof(gen)\n",
    "    list_size = sys.getsizeof(lst)\n",
    "    return gen_size, list_size\n",
    "\n",
    "def demonstrate_usage(n):\n",
    "    \"\"\"Demonstrate generator vs list memory usage\"\"\"\n",
    "    gen_size, list_size = memory_comparison(n)\n",
    "    print(f\"Generator size: {gen_size} bytes\")\n",
    "    print(f\"List size: {list_size} bytes\")\n",
    "    \n",
    "\n",
    "if __name__ == \"__main__\":\n",
    "    n = 1000000\n",
    "    demonstrate_usage(n)\n",
    "    print(\"Generator values:\")\n",
    "    for num in generate_numbers(10):\n",
    "        print(num, end=\" \")\n",
    "    print(\"\\nList values:\")\n",
    "    for num in list_numbers(10):\n",
    "        print(num, end=\" \")"
   ]
  },
  {
   "cell_type": "code",
   "execution_count": null,
   "id": "09a32a79",
   "metadata": {},
   "outputs": [],
   "source": []
  }
 ],
 "metadata": {
  "kernelspec": {
   "display_name": "Python 3",
   "language": "python",
   "name": "python3"
  },
  "language_info": {
   "codemirror_mode": {
    "name": "ipython",
    "version": 3
   },
   "file_extension": ".py",
   "mimetype": "text/x-python",
   "name": "python",
   "nbconvert_exporter": "python",
   "pygments_lexer": "ipython3",
   "version": "3.12.10"
  }
 },
 "nbformat": 4,
 "nbformat_minor": 5
}
