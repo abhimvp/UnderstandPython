{
 "cells": [
  {
   "cell_type": "code",
   "execution_count": 2,
   "id": "117ba09e",
   "metadata": {},
   "outputs": [
    {
     "name": "stdout",
     "output_type": "stream",
     "text": [
      "2\n"
     ]
    },
    {
     "ename": "TypeError",
     "evalue": "unsupported operand type(s) for +: 'int' and 'str'",
     "output_type": "error",
     "traceback": [
      "\u001b[1;31m---------------------------------------------------------------------------\u001b[0m",
      "\u001b[1;31mTypeError\u001b[0m                                 Traceback (most recent call last)",
      "Cell \u001b[1;32mIn[2], line 3\u001b[0m\n\u001b[0;32m      1\u001b[0m \u001b[38;5;66;03m# your programs will give lot of errors , you can't avoid bugs , you can't avoid programs break\u001b[39;00m\n\u001b[0;32m      2\u001b[0m \u001b[38;5;28mprint\u001b[39m(\u001b[38;5;241m1\u001b[39m\u001b[38;5;241m+\u001b[39m\u001b[38;5;28;01mTrue\u001b[39;00m)\n\u001b[1;32m----> 3\u001b[0m \u001b[38;5;28mprint\u001b[39m(\u001b[38;5;241;43m1\u001b[39;49m\u001b[38;5;241;43m+\u001b[39;49m\u001b[38;5;124;43m'\u001b[39;49m\u001b[38;5;124;43mhello\u001b[39;49m\u001b[38;5;124;43m'\u001b[39;49m)\n",
      "\u001b[1;31mTypeError\u001b[0m: unsupported operand type(s) for +: 'int' and 'str'"
     ]
    }
   ],
   "source": [
    "# your programs will give lot of errors , you can't avoid bugs , you can't avoid programs break\n",
    "print(1+True)\n",
    "print(1+'hello')"
   ]
  },
  {
   "cell_type": "code",
   "execution_count": 3,
   "id": "7c36ba1f",
   "metadata": {},
   "outputs": [
    {
     "ename": "SyntaxError",
     "evalue": "expected ':' (1652200009.py, line 3)",
     "output_type": "error",
     "traceback": [
      "\u001b[1;36m  Cell \u001b[1;32mIn[3], line 3\u001b[1;36m\u001b[0m\n\u001b[1;33m    def hoohooo()\u001b[0m\n\u001b[1;37m                 ^\u001b[0m\n\u001b[1;31mSyntaxError\u001b[0m\u001b[1;31m:\u001b[0m expected ':'\n"
     ]
    }
   ],
   "source": [
    "# above we see exceptions being raised. so we need to do error handling - which allows python to continue running even if there are errors\n",
    "# we can use try and except to handle errors\n",
    "def hoohooo()\n",
    "    1+name"
   ]
  },
  {
   "cell_type": "code",
   "execution_count": 10,
   "id": "6327227f",
   "metadata": {},
   "outputs": [
    {
     "ename": "ZeroDivisionError",
     "evalue": "division by zero",
     "output_type": "error",
     "traceback": [
      "\u001b[1;31m---------------------------------------------------------------------------\u001b[0m",
      "\u001b[1;31mZeroDivisionError\u001b[0m                         Traceback (most recent call last)",
      "Cell \u001b[1;32mIn[10], line 4\u001b[0m\n\u001b[0;32m      1\u001b[0m \u001b[38;5;28;01mdef\u001b[39;00m \u001b[38;5;21mhohooo\u001b[39m():\n\u001b[0;32m      2\u001b[0m     \u001b[38;5;28;01mreturn\u001b[39;00m \u001b[38;5;241m5\u001b[39m\u001b[38;5;241m/\u001b[39m\u001b[38;5;241m0\u001b[39m\n\u001b[1;32m----> 4\u001b[0m \u001b[43mhohooo\u001b[49m\u001b[43m(\u001b[49m\u001b[43m)\u001b[49m\n",
      "Cell \u001b[1;32mIn[10], line 2\u001b[0m, in \u001b[0;36mhohooo\u001b[1;34m()\u001b[0m\n\u001b[0;32m      1\u001b[0m \u001b[38;5;28;01mdef\u001b[39;00m \u001b[38;5;21mhohooo\u001b[39m():\n\u001b[1;32m----> 2\u001b[0m     \u001b[38;5;28;01mreturn\u001b[39;00m \u001b[38;5;241;43m5\u001b[39;49m\u001b[38;5;241;43m/\u001b[39;49m\u001b[38;5;241;43m0\u001b[39;49m\n",
      "\u001b[1;31mZeroDivisionError\u001b[0m: division by zero"
     ]
    }
   ],
   "source": [
    "def hohooo():\n",
    "    return 5/0\n",
    "\n",
    "hohooo()"
   ]
  },
  {
   "cell_type": "code",
   "execution_count": null,
   "id": "509a056e",
   "metadata": {},
   "outputs": [
    {
     "name": "stdout",
     "output_type": "stream",
     "text": [
      "please enter a number\n"
     ]
    }
   ],
   "source": [
    "# so user might give something bad , so we need to handle that error with try and except\n",
    "try:\n",
    "    age = int(input(\"Age: \")) # give q\n",
    "    print(age)\n",
    "except ValueError:\n",
    "    print(\"please enter a number\")"
   ]
  },
  {
   "cell_type": "code",
   "execution_count": 14,
   "id": "43442597",
   "metadata": {},
   "outputs": [
    {
     "name": "stdout",
     "output_type": "stream",
     "text": [
      "Invalid input. Please enter a valid integer for age.\n",
      "0\n",
      "Age cannot be zero.\n",
      "1\n",
      "Thank you!\n"
     ]
    }
   ],
   "source": [
    "while True:\n",
    "    try:\n",
    "        age = int(input(\"Enter your age: \"))\n",
    "        print(age)\n",
    "        10/age\n",
    "        # break # exit the loop if no error occurs\n",
    "    except ValueError:\n",
    "        print(\"Invalid input. Please enter a valid integer for age.\")\n",
    "    except ZeroDivisionError:\n",
    "        print(\"Age cannot be zero.\")\n",
    "    except Exception as e:\n",
    "        print(f\"An unexpected error occurred: {e}\")\n",
    "    else:\n",
    "        print(\"Thank you!\")\n",
    "        break # exit the loop if no error occurs"
   ]
  },
  {
   "cell_type": "code",
   "execution_count": null,
   "id": "9cfc925d",
   "metadata": {},
   "outputs": [
    {
     "data": {
      "text/plain": [
       "'12'"
      ]
     },
     "execution_count": 16,
     "metadata": {},
     "output_type": "execute_result"
    }
   ],
   "source": [
    "def sum(a, b):\n",
    "    return a + b\n",
    "\n",
    "sum('1', '2') "
   ]
  },
  {
   "cell_type": "code",
   "execution_count": null,
   "id": "17287316",
   "metadata": {},
   "outputs": [
    {
     "name": "stdout",
     "output_type": "stream",
     "text": [
      "3\n",
      "12\n",
      "Error: unsupported operand type(s) for +: 'int' and 'str'\n",
      "None\n"
     ]
    }
   ],
   "source": [
    "def sum(a, b):\n",
    "    try:\n",
    "        return a + b\n",
    "    except TypeError as err:\n",
    "        print(f\"Error: {err}\")\n",
    "\n",
    "\n",
    "print(sum(1, 2))\n",
    "print(sum(\"1\", \"2\"))\n",
    "print(sum(1, \"2\"))"
   ]
  },
  {
   "cell_type": "code",
   "execution_count": null,
   "id": "123dba0c",
   "metadata": {},
   "outputs": [
    {
     "name": "stdout",
     "output_type": "stream",
     "text": [
      "1\n",
      "This will always run, regardless of whether an exception occurred or not.\n"
     ]
    }
   ],
   "source": [
    "# finally\n",
    "try:\n",
    "    age = int(input(\"Enter your age: \"))\n",
    "    print(age)\n",
    "    10 / age\n",
    "except ValueError:\n",
    "    print(\"Please enter a number\")\n",
    "except ZeroDivisionError:\n",
    "    print(\"Please enter a number greater than 0\")\n",
    "finally:\n",
    "    print(\"This will always run, regardless of whether an exception occurred or not.\")"
   ]
  },
  {
   "cell_type": "code",
   "execution_count": 23,
   "id": "f23ffa8a",
   "metadata": {},
   "outputs": [
    {
     "name": "stdout",
     "output_type": "stream",
     "text": [
      "Error: Age cannot be negative\n"
     ]
    }
   ],
   "source": [
    "# raise\n",
    "try:\n",
    "    age = int(input(\"Enter your age: \"))\n",
    "    if age < 0:\n",
    "        raise ValueError(\"Age cannot be negative\")\n",
    "    print(age)\n",
    "except ValueError as e:\n",
    "    print(f\"Error: {e}\")\n",
    "# raise - to raise an exception manually\n"
   ]
  },
  {
   "cell_type": "code",
   "execution_count": null,
   "id": "9f90117c",
   "metadata": {},
   "outputs": [],
   "source": []
  }
 ],
 "metadata": {
  "kernelspec": {
   "display_name": "Python 3",
   "language": "python",
   "name": "python3"
  },
  "language_info": {
   "codemirror_mode": {
    "name": "ipython",
    "version": 3
   },
   "file_extension": ".py",
   "mimetype": "text/x-python",
   "name": "python",
   "nbconvert_exporter": "python",
   "pygments_lexer": "ipython3",
   "version": "3.12.10"
  }
 },
 "nbformat": 4,
 "nbformat_minor": 5
}
