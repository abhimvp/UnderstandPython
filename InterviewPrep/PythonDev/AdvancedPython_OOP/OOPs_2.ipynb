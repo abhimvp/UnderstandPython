{
 "cells": [
  {
   "cell_type": "markdown",
   "id": "2a5f21ab",
   "metadata": {},
   "source": [
    "#### dev fundamentals \n",
    "- test your assumptions/understanding\n",
    "- earlier we saw `self` , we understood that it refers to class name.\n",
    "- let's test it below."
   ]
  },
  {
   "cell_type": "code",
   "execution_count": 2,
   "id": "c0ee9e70",
   "metadata": {},
   "outputs": [
    {
     "name": "stdout",
     "output_type": "stream",
     "text": [
      "player1 object created\n",
      "player1 object is at:  <__main__.Player object at 0x000001C7F0286A50>\n",
      "player2 object created\n",
      "player2 object is at:  <__main__.Player object at 0x000001C7F000ACF0>\n",
      "<__main__.Player object at 0x000001C7F0286A50>\n",
      "run player1 method None\n",
      "<__main__.Player object at 0x000001C7F000ACF0>\n",
      "run player2 method None\n",
      "from above we can see each object & how self is helping out to refer the attributes of each player\n"
     ]
    }
   ],
   "source": [
    "class Player:\n",
    "    def __init__(self, name, age, position):\n",
    "        self.name = name\n",
    "        self.age = age\n",
    "        self.position = position\n",
    "        \n",
    "    def run(self):\n",
    "        print(self)\n",
    "        \n",
    "print(\"player1 object created\")\n",
    "player1 = Player(\"abhi\", 23, \"striker\")\n",
    "print(\"player1 object is at: \",player1)\n",
    "print(\"player2 object created\")\n",
    "player2= Player(\"virat\", 34, \"defender\")\n",
    "print(\"player2 object is at: \", player2)\n",
    "print(\"run player1 method\",player1.run())\n",
    "print(\"run player2 method\", player2.run())\n",
    "print(\"from above we can see each object & how self is helping out to refer the attributes of each player\")"
   ]
  },
  {
   "cell_type": "code",
   "execution_count": null,
   "id": "f3cb4fd0",
   "metadata": {},
   "outputs": [
    {
     "name": "stdout",
     "output_type": "stream",
     "text": [
      "1000\n",
      "Deposited 500. New balance: 1500\n",
      "1500\n"
     ]
    }
   ],
   "source": [
    "# encapsulation - binding of data and functions that manipulate the data, we encapsulate into one big object, where other machines can interact with the object\n",
    "#  data and functions are attributes and methods respectively\n",
    "#  we are encapsulating the data and methods into one object, so that we can use the object to access the data and methods\n",
    "#  but why do we encapsulate? - to hide the data from the outside world, so that we can protect the data from being modified by other objects or functions\n",
    "\n",
    "class BankAccount:\n",
    "    def __init__(self, account_number, balance=0):\n",
    "        self.__account_number = account_number  # private attribute\n",
    "        self.__balance = balance  # private attribute\n",
    "\n",
    "    def get_balance(self):\n",
    "        return self.__balance\n",
    "    \n",
    "    def deposit(self, amount):\n",
    "        if amount > 0:\n",
    "            self.__balance += amount\n",
    "            print(f\"Deposited {amount}. New balance: {self.__balance}\")\n",
    "        else:\n",
    "            print(\"Deposit amount must be positive.\")\n",
    "\n",
    "p1  = BankAccount(1234, 1000)\n",
    "print(p1.get_balance())\n",
    "p1.deposit(500)\n",
    "print(p1.get_balance())\n",
    "\n",
    "# mimicking what happens in the real world, we have a bank account, where we can deposit money, but we cannot access the balance directly,\n",
    "# we have to use the methods to access the balance and deposit money\n",
    "#  this is encapsulation, where we are hiding the data from the outside world, so that we can protect the data from being modified by other objects or functions"
   ]
  },
  {
   "cell_type": "code",
   "execution_count": 2,
   "id": "0947689b",
   "metadata": {},
   "outputs": [
    {
     "name": "stdout",
     "output_type": "stream",
     "text": [
      "2000\n",
      "Deposited 1000. New balance: 3000\n",
      "3000\n"
     ]
    }
   ],
   "source": [
    "# Abstraction - hiding the implementation details and showing only the essential features of the object, \n",
    "# so that we can use the object without knowing how it works internally\n",
    "# from above example, we can see that we are hiding the implementation details of the BankAccount class\n",
    "# when we call get_balance() method, we are not concerned about how the balance is stored or how it is calculated,\n",
    "# we are only concerned about the balance, this is abstraction, where we are hiding the implementation details and showing only the essential features of the object\n",
    "#  we can use the object without knowing how it works internally\n",
    "p2 = BankAccount(5678, 2000)\n",
    "print(p2.get_balance())\n",
    "p2.deposit(1000)\n",
    "print(p2.get_balance())"
   ]
  },
  {
   "cell_type": "code",
   "execution_count": 3,
   "id": "611e7136",
   "metadata": {},
   "outputs": [
    {
     "name": "stdout",
     "output_type": "stream",
     "text": [
      "4\n",
      "5\n",
      "Black\n",
      "Red\n"
     ]
    }
   ],
   "source": [
    "# private vs public variables\n",
    "# public variables can be accessed outside the class\n",
    "# private variables can only be accessed inside the class\n",
    "class Car:\n",
    "    numberOfWheels = 4\n",
    "    _color = \"Black\"\n",
    "\n",
    "    def __init__(self, make, model):\n",
    "        self.make = make\n",
    "        self.model = model\n",
    "\n",
    "\n",
    "car1 = Car(\"BMW\", \"X5\")\n",
    "print(car1.numberOfWheels)\n",
    "car1.numberOfWheels = 5\n",
    "print(car1.numberOfWheels)\n",
    "print(car1._color)\n",
    "car1._color = \"Red\"\n",
    "print(car1._color)\n"
   ]
  },
  {
   "cell_type": "code",
   "execution_count": null,
   "id": "be2dd508",
   "metadata": {},
   "outputs": [
    {
     "name": "stdout",
     "output_type": "stream",
     "text": [
      "logged in\n",
      "attacking with power of 50\n",
      "logged in\n",
      "attacking with arrows of 100\n"
     ]
    }
   ],
   "source": [
    "# inheritance - the process of acquiring the properties and behaviors of another class, so that we can reuse the code and avoid duplication\n",
    "#  we can create a new class that inherits from an existing class, so that we can use the properties and behaviors of the existing class in the new class\n",
    "class User:\n",
    "    def sign_in(self):\n",
    "        print(\"logged in\")\n",
    "\n",
    "\n",
    "class Wizard(User):  # inheriting from User class\n",
    "    def __init__(self, name, power):  # extending the wizard class with new attributes\n",
    "        self.name = name\n",
    "        self.power = power\n",
    "\n",
    "    def attack(self):\n",
    "        print(f\"attacking with power of {self.power}\")\n",
    "\n",
    "\n",
    "class Archer(User):\n",
    "    def __init__(self, name, arrows):\n",
    "        self.name = name\n",
    "        self.arrows = arrows\n",
    "\n",
    "    def attack(self):\n",
    "        print(f\"attacking with arrows of {self.arrows}\")\n",
    "\n",
    "\n",
    "wizard1 = Wizard(\"Gandalf\", 50)\n",
    "wizard1.sign_in()\n",
    "wizard1.attack()\n",
    "archer1 = Archer(\"Robin\", 100)\n",
    "archer1.sign_in()\n",
    "archer1.attack()\n",
    "#  we can see that we are reusing the code from the User class in the Wizard and Archer classes,"
   ]
  },
  {
   "cell_type": "code",
   "execution_count": 7,
   "id": "bcb8a009",
   "metadata": {},
   "outputs": [
    {
     "name": "stdout",
     "output_type": "stream",
     "text": [
      "True\n",
      "True\n",
      "True\n",
      "False\n",
      "False\n",
      "False\n"
     ]
    }
   ],
   "source": [
    "# isinstance - checks if an object is an instance of a class or a subclass of that class\n",
    "print(isinstance(wizard1, Wizard))  # True\n",
    "print(isinstance(wizard1, User))  # True\n",
    "print(isinstance(wizard1, object))  # True\n",
    "print(isinstance(wizard1, str))  # False\n",
    "print(isinstance(wizard1, int))  # False\n",
    "print(isinstance(wizard1,Archer))"
   ]
  },
  {
   "cell_type": "code",
   "execution_count": 9,
   "id": "9bba28b9",
   "metadata": {},
   "outputs": [
    {
     "name": "stdout",
     "output_type": "stream",
     "text": [
      "Area of rectangle: 50\n",
      "Area of circle: 153.86\n"
     ]
    }
   ],
   "source": [
    "# Polymorphism - the ability to take many forms, where we can use the same method name in different classes\n",
    "# 1. Overloading - same method name but different number of parameters\n",
    "# 2. Overriding - same method name and same number of parameters\n",
    "\n",
    "class Shape:\n",
    "    def area(self):\n",
    "        pass\n",
    "\n",
    "class Rectangle(Shape):\n",
    "    def __init__(self, length, width):\n",
    "        self.length = length\n",
    "        self.width = width\n",
    "\n",
    "    def area(self):\n",
    "        return self.length * self.width\n",
    "\n",
    "class Circle(Shape):\n",
    "    def __init__(self, radius):\n",
    "        self.radius = radius\n",
    "\n",
    "    def area(self):\n",
    "        return 3.14 * self.radius * self.radius\n",
    "\n",
    "def calculate_area(shape):\n",
    "    return shape.area()\n",
    "\n",
    "rectangle = Rectangle(5, 10)\n",
    "circle = Circle(7)\n",
    "\n",
    "print(\"Area of rectangle:\", calculate_area(rectangle))\n",
    "print(\"Area of circle:\", calculate_area(circle))"
   ]
  },
  {
   "cell_type": "code",
   "execution_count": 10,
   "id": "736d7f8a",
   "metadata": {},
   "outputs": [
    {
     "name": "stdout",
     "output_type": "stream",
     "text": [
      "Parent class constructor\n",
      "Child class constructor\n",
      "I am a parent attribute\n",
      "I am a child attribute\n"
     ]
    }
   ],
   "source": [
    "# super() - used to call the parent class constructor\n",
    "class Parent:\n",
    "    def __init__(self):\n",
    "        print(\"Parent class constructor\")\n",
    "        self.parent_attr = \"I am a parent attribute\"\n",
    "    \n",
    "class Child(Parent):\n",
    "    def __init__(self):\n",
    "        super().__init__()  # calling the parent class constructor\n",
    "        print(\"Child class constructor\")\n",
    "        self.child_attr = \"I am a child attribute\"\n",
    "\n",
    "child = Child()\n",
    "print(child.parent_attr)  # accessing parent class attribute\n",
    "print(child.child_attr)   # accessing child class attribute\n",
    "#  we can see that we are calling the parent class constructor"
   ]
  },
  {
   "cell_type": "code",
   "execution_count": 11,
   "id": "71ed210c",
   "metadata": {},
   "outputs": [
    {
     "name": "stdout",
     "output_type": "stream",
     "text": [
      "Simon is just walking around\n",
      "Sally is just walking around\n",
      "Romeo is just walking around\n"
     ]
    }
   ],
   "source": [
    "class Pets():\n",
    "    animals = []\n",
    "    def __init__(self, animals):\n",
    "        self.animals = animals\n",
    "\n",
    "    def walk(self):\n",
    "        for animal in self.animals:\n",
    "            print(animal.walk())\n",
    "\n",
    "class Cat():\n",
    "    is_lazy = True\n",
    "\n",
    "    def __init__(self, name, age):\n",
    "        self.name = name\n",
    "        self.age = age\n",
    "\n",
    "    def walk(self):\n",
    "        return f'{self.name} is just walking around'\n",
    "\n",
    "class Simon(Cat):\n",
    "    def sing(self, sounds):\n",
    "        return f'{sounds}'\n",
    "\n",
    "class Sally(Cat):\n",
    "    def sing(self, sounds):\n",
    "        return f'{sounds}'\n",
    "\n",
    "#1 Add nother Cat\n",
    "\n",
    "class Romeo(Cat):\n",
    "    def sing(self, sounds):\n",
    "        return f'{sounds}'\n",
    "\n",
    "#2 Create a list of all of the pets (create 3 cat instances from the above)\n",
    "my_cats = []\n",
    "simon = Simon(\"Simon\", 2)\n",
    "sally = Sally(\"Sally\", 3)\n",
    "romeo = Romeo(\"Romeo\", 4)\n",
    "my_cats.append(simon)\n",
    "my_cats.append(sally)\n",
    "my_cats.append(romeo)\n",
    "\n",
    "#3 Instantiate the Pet class with all your cats use variable my_pets\n",
    "my_pets = Pets(my_cats)\n",
    "\n",
    "#4 Output all of the cats walking using the my_pets instance\n",
    "my_pets.walk()"
   ]
  },
  {
   "cell_type": "code",
   "execution_count": 13,
   "id": "9921f419",
   "metadata": {},
   "outputs": [
    {
     "name": "stdout",
     "output_type": "stream",
     "text": [
      "Using dir() function to get a list of attributes and methods of an object\n",
      "['__class__', '__delattr__', '__dict__', '__dir__', '__doc__', '__eq__', '__format__', '__ge__', '__getattribute__', '__getstate__', '__gt__', '__hash__', '__init__', '__init_subclass__', '__le__', '__lt__', '__module__', '__ne__', '__new__', '__reduce__', '__reduce_ex__', '__repr__', '__setattr__', '__sizeof__', '__str__', '__subclasshook__', '__weakref__', 'attack', 'email', 'login', 'logout', 'name', 'power']\n"
     ]
    }
   ],
   "source": [
    "# Object Introspection - the ability to examine the properties and methods of an object at runtime\n",
    "# 1. Using dir() function to get a list of attributes and methods of an object\n",
    "# 2. Using type() function to get the type of an object\n",
    "# 3. Using id() function to get the unique identifier of an object\n",
    "# 4. Using hasattr() function to check if an object has a specific attribute or method\n",
    "# 5. Using getattr() function to get the value of a specific attribute of an object\n",
    "# 6. Using setattr() function to set the value of a specific attribute of an object\n",
    "# 7. Using delattr() function to delete a specific attribute of an object\n",
    "# 8. Using issubclass() function to check if a class is a subclass of another class\n",
    "# 9. Using isinstance() function to check if an object is an instance of a specific class\n",
    "# 10. Using help() function to get help documentation for an object\n",
    "\n",
    "class User:\n",
    "    def __init__(self, email):\n",
    "        self.email = email\n",
    "\n",
    "    def login(self):\n",
    "        print(\"Login\")\n",
    "\n",
    "    def logout(self):\n",
    "        print(\"Logout\")\n",
    "\n",
    "class Wizard(User):\n",
    "    def __init__(self, name, power, email):\n",
    "        super().__init__(email)\n",
    "        self.name = name\n",
    "        self.power = power\n",
    "\n",
    "    def attack(self):\n",
    "        print(f\"Attacking with power of {self.power}\")\n",
    "\n",
    "wizard1 = Wizard(\"Merlin\", 50, \"XXXXXXXXXXXXXXXX\")\n",
    "print(\"Using dir() function to get a list of attributes and methods of an object\")\n",
    "print(dir(wizard1))"
   ]
  },
  {
   "cell_type": "code",
   "execution_count": 16,
   "id": "d20e4b80",
   "metadata": {
    "slideshow": {
     "slide_type": "slide"
    }
   },
   "outputs": [
    {
     "name": "stdout",
     "output_type": "stream",
     "text": [
      "Jane has been deleted\n",
      "John has a salary of 10000\n",
      "Employee('John', 10000)\n",
      "4\n",
      "J\n",
      "A\n",
      "Aohn has been deleted\n",
      "Jane has been called\n",
      "None\n"
     ]
    }
   ],
   "source": [
    "# dunder methods - special methods that start and end with double underscores, used to define the behavior of an object in certain situations\n",
    "# 1. __init__ - constructor method, called when an object is created\n",
    "# 2. __str__ - string representation method, called when an object is printed\n",
    "# 3. __repr__ - representation method, called when an object is printed in a list or dictionary\n",
    "# 4. __len__ - length method, called when the len() function is used on an object\n",
    "# 5. __getitem__ - get item method, called when an object is indexed like a list or dictionary\n",
    "# 6. __setitem__ - set item method, called when an object is assigned to like a list or dictionary\n",
    "# 7. __del__ - delete method, called when an object is deleted\n",
    "\n",
    "class Employee:\n",
    "    def __init__(self, name, salary):\n",
    "        self.name = name\n",
    "        self.salary = salary\n",
    "\n",
    "    def __str__(self):\n",
    "        return f\"{self.name} has a salary of {self.salary}\"\n",
    "\n",
    "    def __repr__(self):\n",
    "        return f\"Employee('{self.name}', {self.salary})\"\n",
    "\n",
    "    def __len__(self):\n",
    "        return len(self.name)\n",
    "\n",
    "    def __getitem__(self, index):\n",
    "        return self.name[index]\n",
    "\n",
    "    def __setitem__(self, index, value):\n",
    "        self.name = self.name[:index] + value + self.name[index+1:]\n",
    "\n",
    "    def __del__(self):\n",
    "        print(f\"{self.name} has been deleted\")\n",
    "    \n",
    "    def __call__(self):\n",
    "        print(f\"{self.name} has been called\")\n",
    "\n",
    "emp1 = Employee(\"John\", 10000)\n",
    "emp2 = Employee(\"Jane\", 20000)\n",
    "\n",
    "print(emp1)  # John has a salary of 10000\n",
    "print(repr(emp1))  # Employee('John', 10000)\n",
    "print(len(emp1))  # 4\n",
    "print(emp1[0])  # J\n",
    "emp1[0] = \"A\"\n",
    "print(emp1[0])  # A\n",
    "\n",
    "del emp1  # John has been deleted\n",
    "print(emp2())  # NameError: name 'emp1' is not defined"
   ]
  },
  {
   "cell_type": "code",
   "execution_count": 17,
   "id": "7a3b23ec",
   "metadata": {},
   "outputs": [
    {
     "name": "stdout",
     "output_type": "stream",
     "text": [
      "1000\n",
      "5\n",
      "True\n"
     ]
    }
   ],
   "source": [
    "class SuperList(list):\n",
    "    def __len__(self):\n",
    "        return 1000\n",
    "\n",
    "super_list1 = SuperList();\n",
    "\n",
    "print(len(super_list1))\n",
    "super_list1.append(5)\n",
    "print(super_list1[0])\n",
    "print(issubclass (list, object))"
   ]
  },
  {
   "cell_type": "code",
   "execution_count": 2,
   "id": "f2d87d9f",
   "metadata": {},
   "outputs": [
    {
     "name": "stdout",
     "output_type": "stream",
     "text": [
      "Hello from A\n",
      "Hello from C\n"
     ]
    }
   ],
   "source": [
    "# multiple inheritance - a class can inherit from multiple classes, so that we can reuse the code from multiple classes in the new class\n",
    "# 1. Diamond problem - when a class inherits from two classes that have the same method, it can cause ambiguity in which method to call\n",
    "# Parent class 1\n",
    "class A:\n",
    "    def greet(self):\n",
    "        print(\"Hello from A\")\n",
    "\n",
    "# Parent class 2 \n",
    "class B:\n",
    "    def greet(self):\n",
    "        print(\"Hello from B\")\n",
    "\n",
    "# Child class inheriting from both A and B\n",
    "class C(A, B):\n",
    "    def greet(self):\n",
    "        # Use super() to resolve method order\n",
    "        super().greet()\n",
    "        \n",
    "\n",
    "\n",
    "        print(\"Hello from C\")\n",
    "        \n",
    "# Create an instance of C\n",
    "c = C()\n",
    "c.greet()  # Output: Hello from A, Hello from C"
   ]
  },
  {
   "cell_type": "code",
   "execution_count": 3,
   "id": "3fa1e80c",
   "metadata": {},
   "outputs": [
    {
     "name": "stdout",
     "output_type": "stream",
     "text": [
      "[<class '__main__.C'>, <class '__main__.A'>, <class '__main__.B'>, <class 'object'>]\n"
     ]
    }
   ],
   "source": [
    "# method resolution order - the order in which Python looks for a method in a hierarchy of classes\n",
    "\n",
    "print(C.mro())  # Output: [<class '__main__.C'>, <class '__main__.A'>, <class '__main__.B'>, <class 'object'>]"
   ]
  },
  {
   "cell_type": "code",
   "execution_count": null,
   "id": "1bba98eb",
   "metadata": {},
   "outputs": [],
   "source": []
  }
 ],
 "metadata": {
  "kernelspec": {
   "display_name": "Python 3",
   "language": "python",
   "name": "python3"
  },
  "language_info": {
   "codemirror_mode": {
    "name": "ipython",
    "version": 3
   },
   "file_extension": ".py",
   "mimetype": "text/x-python",
   "name": "python",
   "nbconvert_exporter": "python",
   "pygments_lexer": "ipython3",
   "version": "3.12.10"
  }
 },
 "nbformat": 4,
 "nbformat_minor": 5
}
