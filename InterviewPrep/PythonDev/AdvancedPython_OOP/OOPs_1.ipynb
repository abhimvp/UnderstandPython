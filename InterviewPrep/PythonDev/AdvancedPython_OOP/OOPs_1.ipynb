{
 "cells": [
  {
   "cell_type": "markdown",
   "id": "a2a4652c",
   "metadata": {},
   "source": [
    "- Everything in python is an object.\n",
    "- Remember our data types?\n",
    "- when we do `print(type(something))`. here something could be None,True,5,5.5,'hi',[],(),{}\n",
    "- we see `class` keyword infront of it. everything in python is built by this `class` keyword and we are able to use different methods using objects.like `'hi'.captilize()` we can be able to access methods from string (object) using dot(.)\n",
    "- with python OOP , we can be able to create our own custom objects using `class` keyword.\n"
   ]
  },
  {
   "cell_type": "code",
   "execution_count": 3,
   "id": "0629016c",
   "metadata": {},
   "outputs": [
    {
     "name": "stdout",
     "output_type": "stream",
     "text": [
      "<class 'NoneType'>\n",
      "<class 'bool'>\n",
      "<class 'int'>\n",
      "<class 'float'>\n",
      "<class 'str'>\n",
      "<class 'list'>\n",
      "<class 'tuple'>\n",
      "<class 'dict'>\n",
      "<class 'type'>\n",
      "<class '__main__.BigObj'>\n"
     ]
    }
   ],
   "source": [
    "print(type(None))\n",
    "print(type(True))\n",
    "print(type(5))\n",
    "print(type(5.5))\n",
    "print(type('hi'))\n",
    "print(type([]))\n",
    "print(type(()))\n",
    "print(type({}))\n",
    "class BigObj: # own data type , class is a type\n",
    "    pass\n",
    "print(type(BigObj)) #<class 'type'>\n",
    "obj1 = BigObj() # creating a new object by instantiating the class\n",
    "print(type(obj1)) #<class '__main__.BigObj'>"
   ]
  },
  {
   "cell_type": "markdown",
   "id": "fe05714b",
   "metadata": {},
   "source": [
    "`- OOP is a paradigm , it's a way for us to think & structure our code in a way that is easier to maintain,extend & write.` to write a code about drone delivery, we break it into small pieces , little objects that represent real world.\n"
   ]
  },
  {
   "cell_type": "code",
   "execution_count": 4,
   "id": "575996b1",
   "metadata": {},
   "outputs": [
    {
     "name": "stdout",
     "output_type": "stream",
     "text": [
      "True\n",
      "False\n"
     ]
    }
   ],
   "source": [
    "print(type(obj1) is BigObj) #True\n",
    "print(type(obj1) is type) #False"
   ]
  },
  {
   "cell_type": "code",
   "execution_count": 33,
   "id": "fbd9fd42",
   "metadata": {},
   "outputs": [
    {
     "name": "stdout",
     "output_type": "stream",
     "text": [
      "<__main__.PlayerCharacter object at 0x000001A80D219040>\n",
      "run\n"
     ]
    }
   ],
   "source": [
    "# create our own object\n",
    "class PlayerCharacter:\n",
    "    # class object attribute - static - not dynamic - belongs to the class itself\n",
    "    membership = True # all instances of the class will have this attribute - shared by all instances of the class\n",
    "    def __init__(self,name): \n",
    "        if (self.membership): # use self to access class object attribute\n",
    "            # special method or dunder method - a constructor , automatically called anytime we instantiate a class to create an object\n",
    "            self.name = name # attributes - variables that belong to the object\n",
    "        \n",
    "    def run(self):\n",
    "        print(\"run\")\n",
    "    \n",
    "    def shout(self): # pass self to access attributes of the class\n",
    "        # we can access class object attributes using self or class name\n",
    "        print(f\"my name is {PlayerCharacter.membership}\") \n",
    "        print(f\"my name is {self.name}\")\n",
    "        \n",
    "    @classmethod # decorator - we can use class methods without instantiating the class\n",
    "    def adding_things(cls, num1, num2): # we use cls instead of self\n",
    "        # we can access class object attributes using self or class name\n",
    "        return num1 + num2\n",
    "    \n",
    "    @staticmethod # decorator - we can use class methods without instantiating the class\n",
    "    def adding_things2(num1, num2): \n",
    "        return num1 + num2\n",
    "        \n",
    "p1 = PlayerCharacter(\"abhi\") # instantiate the player character. - it runs init and we accept whatever after self as params\n",
    "\n",
    "print(p1) # it's an object of PlayerCharacter class & located at a memory address\n",
    "p1.run()"
   ]
  },
  {
   "cell_type": "markdown",
   "id": "2c31c0df",
   "metadata": {},
   "source": [
    "what's the self keyword above?\n",
    "- self refers to the PlayerCharacter & in order for us to have player a name, we say self.name , then self refers to p1 and has a name attribute"
   ]
  },
  {
   "cell_type": "code",
   "execution_count": 7,
   "id": "90918012",
   "metadata": {},
   "outputs": [
    {
     "name": "stdout",
     "output_type": "stream",
     "text": [
      "abhi\n"
     ]
    }
   ],
   "source": [
    "print(p1.name) # abhi"
   ]
  },
  {
   "cell_type": "code",
   "execution_count": 24,
   "id": "4917caa8",
   "metadata": {},
   "outputs": [
    {
     "name": "stdout",
     "output_type": "stream",
     "text": [
      "<__main__.PlayerCharacter object at 0x000001A80C76B230>\n"
     ]
    }
   ],
   "source": [
    "p2 = PlayerCharacter(\"sachin\") # another object of PlayerCharacter class\n",
    "print(p2) # it's an object of PlayerCharacter class & located at a memory address"
   ]
  },
  {
   "cell_type": "code",
   "execution_count": 25,
   "id": "4936b9ae",
   "metadata": {},
   "outputs": [
    {
     "name": "stdout",
     "output_type": "stream",
     "text": [
      "sachin\n",
      "run\n"
     ]
    }
   ],
   "source": [
    "print(p2.name) # sachin\n",
    "p2.run()"
   ]
  },
  {
   "cell_type": "markdown",
   "id": "6ddb52ce",
   "metadata": {},
   "source": [
    "Above we can see that we're writing code only once (DRY principle) & we're able to make it dynamic , we're able to change data on what we give for each object, so we can create different players with different attributes and still use same code.\n",
    "- we can see two objects are at different memory locations"
   ]
  },
  {
   "cell_type": "code",
   "execution_count": 26,
   "id": "d95a7e52",
   "metadata": {},
   "outputs": [
    {
     "name": "stdout",
     "output_type": "stream",
     "text": [
      "<__main__.PlayerCharacter object at 0x000001A80C6CD160> <__main__.PlayerCharacter object at 0x000001A80C76B230>\n"
     ]
    }
   ],
   "source": [
    "print(p1,p2)"
   ]
  },
  {
   "cell_type": "code",
   "execution_count": 27,
   "id": "93281e96",
   "metadata": {},
   "outputs": [
    {
     "name": "stdout",
     "output_type": "stream",
     "text": [
      "True\n",
      "True\n",
      "my name is True\n",
      "my name is abhi\n",
      "None\n"
     ]
    }
   ],
   "source": [
    "# attributes & methods\n",
    "# help(p1) #gives us the entire class blueprint\n",
    "print(p1.membership)\n",
    "print(p2.membership)\n",
    "print(p1.shout())"
   ]
  },
  {
   "cell_type": "code",
   "execution_count": null,
   "id": "9551993a",
   "metadata": {},
   "outputs": [],
   "source": [
    "# fun time\n",
    "# Given the below class:\n",
    "class Cat:\n",
    "    species = \"mammal\"\n",
    "\n",
    "    def __init__(self, name, age):\n",
    "        self.name = name\n",
    "        self.age = age\n",
    "\n",
    "\n",
    "# 1 Instantiate the Cat object with 3 cats\n",
    "c1 = Cat(\"c1\", 2)\n",
    "c2 = Cat(\"c2\", 3)\n",
    "c3 = Cat(\"c3\", 4)\n",
    "\n",
    "\n",
    "# 2 Create a function that finds the oldest cat\n",
    "\n",
    "\n",
    "def oldest_cat(*args):\n",
    "    return max(args)\n",
    "\n",
    "\n",
    "# 3 Print out: \"The oldest cat is x years old.\". x will be the oldest cat age by using the function in #2\n",
    "def old_cat_info():\n",
    "    print(f\"The oldest cat is {oldest_cat(c1.age, c2.age, c3.age)} years old\")"
   ]
  },
  {
   "cell_type": "code",
   "execution_count": 30,
   "id": "764f9717",
   "metadata": {},
   "outputs": [
    {
     "name": "stdout",
     "output_type": "stream",
     "text": [
      "The oldest cat is 4 years old\n"
     ]
    }
   ],
   "source": [
    "old_cat_info()"
   ]
  },
  {
   "cell_type": "code",
   "execution_count": 34,
   "id": "02a2a778",
   "metadata": {},
   "outputs": [
    {
     "name": "stdout",
     "output_type": "stream",
     "text": [
      "5\n",
      "7\n"
     ]
    }
   ],
   "source": [
    "# @classmethod & @staticmethod\n",
    "# declared classmethod above in class - we don't use these often\n",
    "\n",
    "print(PlayerCharacter.adding_things(2,3))\n",
    "print(PlayerCharacter.adding_things2(3,4))"
   ]
  },
  {
   "cell_type": "code",
   "execution_count": null,
   "id": "98373dfd",
   "metadata": {},
   "outputs": [],
   "source": []
  }
 ],
 "metadata": {
  "kernelspec": {
   "display_name": "Python 3",
   "language": "python",
   "name": "python3"
  },
  "language_info": {
   "codemirror_mode": {
    "name": "ipython",
    "version": 3
   },
   "file_extension": ".py",
   "mimetype": "text/x-python",
   "name": "python",
   "nbconvert_exporter": "python",
   "pygments_lexer": "ipython3",
   "version": "3.12.10"
  }
 },
 "nbformat": 4,
 "nbformat_minor": 5
}
