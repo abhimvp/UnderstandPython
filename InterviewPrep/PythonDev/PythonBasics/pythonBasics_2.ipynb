{
 "cells": [
  {
   "cell_type": "code",
   "execution_count": 72,
   "metadata": {},
   "outputs": [],
   "source": [
    "# # password checker - fun time\n",
    "# user_name = input('enter your username')\n",
    "# password= input('enter your password')\n",
    "# # password_length = len(password)\n",
    "# print(f\"username is {user_name} and password: {len(password)*'*'} is {len(password)} characters long\")"
   ]
  },
  {
   "cell_type": "code",
   "execution_count": 73,
   "metadata": {},
   "outputs": [
    {
     "name": "stdout",
     "output_type": "stream",
     "text": [
      "[]\n"
     ]
    }
   ],
   "source": [
    "# Lists - list\n",
    "# list is ordered sequence of objects\n",
    "# list is mutable - can be changed\n",
    "# list is iterable - can be looped over\n",
    "# list is dynamic - can grow and shrink\n",
    "# list is heterogeneous - can contain different data types\n",
    "# list is a collection of objects\n",
    "li =[] # empty list\n",
    "print(li)"
   ]
  },
  {
   "cell_type": "code",
   "execution_count": 74,
   "metadata": {},
   "outputs": [
    {
     "name": "stdout",
     "output_type": "stream",
     "text": [
      "notebooks\n",
      "sunglasses\n",
      "['laptop', 'sunglasses']\n"
     ]
    }
   ],
   "source": [
    "# lists are form of arrays in python\n",
    "# list is a data structure that can hold multiple values \n",
    "# list is a collection of items\n",
    "amazon_cart=['notebooks','sunglasses']\n",
    "print(amazon_cart[0]) # prints first item in the list\n",
    "print(amazon_cart[1]) # prints second item in the list\n",
    "# list can be modified\n",
    "amazon_cart[0]='laptop' # changes the first item in the list\n",
    "print(amazon_cart) # prints the list"
   ]
  },
  {
   "cell_type": "code",
   "execution_count": 75,
   "metadata": {},
   "outputs": [
    {
     "name": "stdout",
     "output_type": "stream",
     "text": [
      "['sunglasses', 'laptop']\n",
      "['sunglasses', 'laptop']\n"
     ]
    }
   ],
   "source": [
    "# list slicing\n",
    "amazon_cart=['notebooks','sunglasses','laptop','phone']\n",
    "print(amazon_cart[1:3])\n",
    "print(amazon_cart[-3:-1])"
   ]
  },
  {
   "cell_type": "code",
   "execution_count": 76,
   "metadata": {},
   "outputs": [
    {
     "name": "stdout",
     "output_type": "stream",
     "text": [
      "['notebooks', 'sunglasses', 'laptop', 'phone']\n",
      "['laptop', 'sunglasses', 'laptop', 'phone']\n",
      "['laptop', 'sunglasses', 'laptop', 'phone']\n",
      "['laptop1', 'sunglasses', 'laptop', 'phone']\n",
      "['laptop', 'sunglasses', 'laptop', 'phone']\n"
     ]
    }
   ],
   "source": [
    "new_cart= amazon_cart\n",
    "print(new_cart) # prints the list\n",
    "new_cart[0]= 'laptop'\n",
    "print(new_cart) # prints the list\n",
    "# if you want to copy a list , you do the following \n",
    "copy_cart= amazon_cart[:]\n",
    "print(copy_cart) # prints the list\n",
    "copy_cart[0]= 'laptop1'\n",
    "print(copy_cart) # prints the list\n",
    "print(amazon_cart) # prints the list"
   ]
  },
  {
   "cell_type": "code",
   "execution_count": 77,
   "metadata": {},
   "outputs": [
    {
     "name": "stdout",
     "output_type": "stream",
     "text": [
      "2\n",
      "20\n",
      "\n",
      "1\n",
      "20\n",
      "3\n",
      "\n",
      "4\n",
      "5\n",
      "6\n",
      "\n",
      "7\n",
      "8\n",
      "9\n"
     ]
    }
   ],
   "source": [
    "# Matrix - list of lists\n",
    "numbers = [1, 2, 3]\n",
    "\n",
    "# 2D list\n",
    "matrix = [\n",
    "    [1, 2, 3],\n",
    "    [4, 5, 6],\n",
    "    [7, 8, 9]\n",
    "]\n",
    "print(matrix[0][1])\n",
    "matrix[0][1] = 20\n",
    "print(matrix[0][1])\n",
    "for row in matrix:\n",
    "    print(\"\")\n",
    "    for item in row:\n",
    "        print(item)"
   ]
  },
  {
   "cell_type": "code",
   "execution_count": 78,
   "metadata": {},
   "outputs": [
    {
     "name": "stdout",
     "output_type": "stream",
     "text": [
      "9\n",
      "append method - Add an item to the end of the list.\n",
      "[1, 2, 3, 4, 5, 6, 7, 8, 9, 10]\n",
      "insert method - Insert object before index. at index 2 add 2.0\n",
      "[1, 2, 2.0, 3, 4, 5, 6, 7, 8, 9, 10]\n",
      "[1, 2, 2.0, 3, 4, 5, 6, 7, 8, 9, 10, 11, 12, 13]\n",
      "None\n",
      "pop - Remove and return item at index (default last).\n",
      "13\n",
      "1\n",
      "[2, 2.0, 3, 4, 5, 6, 7, 8, 9, 10, 11, 12]\n",
      "remove - Remove first occurrence of value.\n",
      "[]\n"
     ]
    }
   ],
   "source": [
    "# list methods\n",
    "basket = [1, 2, 3, 4, 5, 6, 7, 8, 9]\n",
    "print(len(basket)) # prints the length of the list\n",
    "print(\"append method - Add an item to the end of the list.\")\n",
    "basket.append(10) # adds 10 to the end of the list\n",
    "print(basket)\n",
    "print(\"insert method - Insert object before index. at index 2 add 2.0\")\n",
    "basket.insert(2,2.0) # modifies the list at index 2 and adds 2.0\n",
    "print(basket)\n",
    "new_list = basket.extend([11, 12, 13]) # adds the list to the end of the list\n",
    "print(basket) # prints the list\n",
    "print(new_list) # prints None because extend does not return anything\n",
    "# removing \n",
    "print(\"pop - Remove and return item at index (default last).\")\n",
    "print(basket.pop())\n",
    "print(basket.pop(0)) # removes the first item in the list\n",
    "print(basket) # prints the list\n",
    "# remember that different methods do different things\n",
    "print(\"remove - Remove first occurrence of value.\")\n",
    "new_list = basket.clear() # clears the list\n",
    "print(basket) # prints the list"
   ]
  },
  {
   "cell_type": "code",
   "execution_count": 79,
   "metadata": {},
   "outputs": [
    {
     "name": "stdout",
     "output_type": "stream",
     "text": [
      "<built-in method index of list object at 0x0000024260965E40>\n",
      "index - Return first index of value.\n",
      "value 2 position in buck is 1\n",
      "2\n",
      "True\n",
      "False\n",
      "1\n",
      "0\n"
     ]
    }
   ],
   "source": [
    "buck= [1, 2, 3, 4, 5, 6, 7, 8, 9]\n",
    "print(buck.index)\n",
    "print(\"index - Return first index of value.\")\n",
    "print(\"value 2 position in buck is\",buck.index(2))\n",
    "char_buck=['a', 'b', 'c', 'd', 'e', 'f', 'g', 'h', 'i']\n",
    "print(char_buck.index('c'))\n",
    "# print(char_buck.index('d',4,8)) - ValueError: 'd' is not in list\n",
    "print('c' in char_buck) # checks if c is in the list\n",
    "print('z' in char_buck) # checks if z is in the list\n",
    "print(char_buck.count('d')) # counts the number of times d is in the list\n",
    "print(char_buck.count('z')) # counts the number of times z is in the list\n"
   ]
  },
  {
   "cell_type": "code",
   "execution_count": 80,
   "metadata": {},
   "outputs": [
    {
     "name": "stdout",
     "output_type": "stream",
     "text": [
      "The sort is in-place (i.e. the list itself is modified) and stable (i.e. the order of two equal elements is maintained random_num.sort() returns None\n",
      "[0, 1, 2, 3, 4, 5, 6, 7, 8, 9, 10]\n"
     ]
    }
   ],
   "source": [
    "random_num = [2,3,1,5,10,4,6,7,8,9,0]\n",
    "print(\"The sort is in-place (i.e. the list itself is modified) and stable (i.e. the order of two equal elements is maintained random_num.sort() returns\", random_num.sort()) # sorts the list in ascending order\n",
    "random_num.sort() # sorts the list in ascending order\n",
    "print(random_num) # prints the list"
   ]
  },
  {
   "cell_type": "code",
   "execution_count": 81,
   "metadata": {},
   "outputs": [
    {
     "name": "stdout",
     "output_type": "stream",
     "text": [
      "[2, 3, 1, 5, 10, 4, 6, 7, 8, 9, 0]\n",
      "sorted produces new array and does not modify the original array\n",
      "sorted(array) [0, 1, 2, 3, 4, 5, 6, 7, 8, 9, 10]\n",
      "original array [2, 3, 1, 5, 10, 4, 6, 7, 8, 9, 0]\n"
     ]
    }
   ],
   "source": [
    "random_num = [2,3,1,5,10,4,6,7,8,9,0]\n",
    "print(random_num) # sorts the list in ascending order\n",
    "print(\"sorted produces new array and does not modify the original array\")\n",
    "print(\"sorted(array)\",sorted(random_num)) # sorts the list in ascending order and returns a new list\n",
    "print(\"original array\",random_num)"
   ]
  },
  {
   "cell_type": "code",
   "execution_count": 82,
   "metadata": {},
   "outputs": [
    {
     "name": "stdout",
     "output_type": "stream",
     "text": [
      "new_random_num [2, 3, 1, 5, 10, 4, 6, 7, 8, 9, 0]\n"
     ]
    }
   ],
   "source": [
    "new_random_num = random_num.copy() # copies the list\n",
    "print(\"new_random_num\", new_random_num) # prints the list"
   ]
  },
  {
   "cell_type": "code",
   "execution_count": 83,
   "metadata": {},
   "outputs": [
    {
     "name": "stdout",
     "output_type": "stream",
     "text": [
      "new_random_num [0, 9, 8, 7, 6, 4, 10, 5, 1, 3, 2]\n"
     ]
    }
   ],
   "source": [
    "new_random_num.reverse() # reverses the list in place\n",
    "print(\"new_random_num\", new_random_num) # prints the list"
   ]
  },
  {
   "cell_type": "code",
   "execution_count": 84,
   "metadata": {},
   "outputs": [
    {
     "name": "stdout",
     "output_type": "stream",
     "text": [
      "common list patterns\n",
      "[1, 2, 3, 4, 5]\n",
      "5\n",
      "[1, 3, 5]\n",
      "[5, 4, 3, 2, 1]\n",
      "[0, 1, 2, 3, 4, 5, 6, 7, 8, 9, 10, 11, 12, 13, 14, 15, 16, 17, 18, 19, 20, 21, 22, 23, 24, 25, 26, 27, 28, 29, 30, 31, 32, 33, 34, 35, 36, 37, 38, 39, 40, 41, 42, 43, 44, 45, 46, 47, 48, 49, 50, 51, 52, 53, 54, 55, 56, 57, 58, 59, 60, 61, 62, 63, 64, 65, 66, 67, 68, 69, 70, 71, 72, 73, 74, 75, 76, 77, 78, 79, 80, 81, 82, 83, 84, 85, 86, 87, 88, 89, 90, 91, 92, 93, 94, 95, 96, 97, 98, 99]\n",
      "[1, 2, 3, 4, 5]\n"
     ]
    }
   ],
   "source": [
    "# common list patterns\n",
    "print(\"common list patterns\")\n",
    "basket = [1, 2, 3, 4, 5]\n",
    "print(basket) # prints the list\n",
    "print(len(basket)) # prints the length of the list\n",
    "print(basket[::2]) # prints every second item in the list\n",
    "print(basket[::-1]) # prints the list in reverse order\n",
    "print(list(range(100))) # prints a list of numbers from 0 to 99\n",
    "print(basket)"
   ]
  },
  {
   "cell_type": "code",
   "execution_count": 85,
   "metadata": {},
   "outputs": [
    {
     "name": "stdout",
     "output_type": "stream",
     "text": [
      "range(1, 9)\n"
     ]
    }
   ],
   "source": [
    "print(range(1,9))"
   ]
  },
  {
   "cell_type": "code",
   "execution_count": 86,
   "metadata": {},
   "outputs": [
    {
     "name": "stdout",
     "output_type": "stream",
     "text": [
      "[1, 2, 3, 4, 5, 6, 7, 8]\n"
     ]
    }
   ],
   "source": [
    "print(list(range(1,9))) # prints a list of numbers from 1 to 8"
   ]
  },
  {
   "cell_type": "code",
   "execution_count": 87,
   "metadata": {},
   "outputs": [
    {
     "name": "stdout",
     "output_type": "stream",
     "text": [
      "join - Join elements of iterable to the end of string.\n",
      "ahellobhelloc\n"
     ]
    }
   ],
   "source": [
    "# .join()\n",
    "print(\"join - Join elements of iterable to the end of string.\")\n",
    "print(\"hello\".join(['a', 'b', 'c'])) # joins the list with hello in between each item"
   ]
  },
  {
   "cell_type": "code",
   "execution_count": 88,
   "metadata": {},
   "outputs": [
    {
     "name": "stdout",
     "output_type": "stream",
     "text": [
      "abc\n",
      "\n",
      "a!b!c\n",
      "hello my friend\n"
     ]
    }
   ],
   "source": [
    "sentence =''\n",
    "new_sentence=sentence.join(['a', 'b', 'c']) # joins the list with hello in between each item\n",
    "print(new_sentence) # prints the list\n",
    "print(sentence) # prints the sentence\n",
    "new_sentence= \"!\".join(['a', 'b', 'c']) # joins the list with ! in between each item\n",
    "print(new_sentence) # prints the list\n",
    "new_sentence=\" \".join(['hello',\"my\",'friend'])\n",
    "print(new_sentence) # prints the list"
   ]
  },
  {
   "cell_type": "code",
   "execution_count": 89,
   "metadata": {},
   "outputs": [
    {
     "name": "stdout",
     "output_type": "stream",
     "text": [
      "1\n",
      "2\n",
      "3\n",
      "[4, 5, 6, 7, 8, 9]\n",
      "10\n"
     ]
    }
   ],
   "source": [
    "#list unpacking\n",
    "a,b,c,*other,d = [1,2,3,4,5,6,7,8,9,10]\n",
    "print(a)\n",
    "print(b)\n",
    "print(c)\n",
    "print(other)\n",
    "print(d)"
   ]
  },
  {
   "cell_type": "code",
   "execution_count": 90,
   "metadata": {},
   "outputs": [
    {
     "name": "stdout",
     "output_type": "stream",
     "text": [
      "None\n"
     ]
    }
   ],
   "source": [
    "# None\n",
    "def get_none():\n",
    "    return None\n",
    "print(get_none()) # prints None"
   ]
  },
  {
   "cell_type": "code",
   "execution_count": 91,
   "metadata": {},
   "outputs": [
    {
     "name": "stdout",
     "output_type": "stream",
     "text": [
      "False\n"
     ]
    }
   ],
   "source": [
    "print(bool(None))\n"
   ]
  },
  {
   "cell_type": "code",
   "execution_count": 92,
   "metadata": {},
   "outputs": [
    {
     "name": "stdout",
     "output_type": "stream",
     "text": [
      "{}\n",
      "<class 'dict'>\n",
      "{1: 'one', 2: 'two', 3: 'three', 4: True, 5: False, 6: [1, 2, 3]}\n",
      "one\n",
      "3\n"
     ]
    }
   ],
   "source": [
    "#Dictionaries\n",
    "# dictionary is a collection of key-value pairs\n",
    "# dictionary is unordered\n",
    "# dictionary is mutable - can be changed\n",
    "# dictionary is iterable - can be looped over\n",
    "# dictionary is dynamic - can grow and shrink\n",
    "# dictionary is heterogeneous - can contain different data types\n",
    "# dictionary is a collection of objects\n",
    "# dictionary is a data structure that can hold multiple values\n",
    "# dict - datatype and data structure\n",
    "\n",
    "dictionary = {}\n",
    "print(dictionary)\n",
    "print(type(dictionary))\n",
    "dictionary = {1:\"one\",2:\"two\",3:\"three\",4:True,5:False,6:[1,2,3]}\n",
    "print(dictionary)\n",
    "print(dictionary[1])\n",
    "print(dictionary[6][2])\n"
   ]
  },
  {
   "cell_type": "code",
   "execution_count": 93,
   "metadata": {},
   "outputs": [
    {
     "ename": "TypeError",
     "evalue": "unhashable type: 'list'",
     "output_type": "error",
     "traceback": [
      "\u001b[1;31m---------------------------------------------------------------------------\u001b[0m",
      "\u001b[1;31mTypeError\u001b[0m                                 Traceback (most recent call last)",
      "Cell \u001b[1;32mIn[93], line 5\u001b[0m\n\u001b[0;32m      1\u001b[0m \u001b[38;5;66;03m# dictionary keys\u001b[39;00m\n\u001b[0;32m      2\u001b[0m \u001b[38;5;66;03m# dictionary keys are unique\u001b[39;00m\n\u001b[0;32m      3\u001b[0m \u001b[38;5;66;03m# dictionary keys are immutable\u001b[39;00m\n\u001b[0;32m      4\u001b[0m \u001b[38;5;66;03m# dictionary keys can be of any data type\u001b[39;00m\n\u001b[1;32m----> 5\u001b[0m dictionary \u001b[38;5;241m=\u001b[39m {\u001b[38;5;241m1\u001b[39m:\u001b[38;5;124m\"\u001b[39m\u001b[38;5;124mone\u001b[39m\u001b[38;5;124m\"\u001b[39m,\u001b[38;5;241m2\u001b[39m:\u001b[38;5;124m\"\u001b[39m\u001b[38;5;124mtwo\u001b[39m\u001b[38;5;124m\"\u001b[39m,\u001b[38;5;241m3\u001b[39m:\u001b[38;5;124m\"\u001b[39m\u001b[38;5;124mthree\u001b[39m\u001b[38;5;124m\"\u001b[39m,\u001b[38;5;241m4\u001b[39m:\u001b[38;5;28;01mTrue\u001b[39;00m,\u001b[38;5;241m5\u001b[39m:\u001b[38;5;28;01mFalse\u001b[39;00m,\u001b[38;5;241m6\u001b[39m:[\u001b[38;5;241m1\u001b[39m,\u001b[38;5;241m2\u001b[39m,\u001b[38;5;241m3\u001b[39m],\n\u001b[0;32m      6\u001b[0m               [\u001b[38;5;241m100\u001b[39m]:\u001b[38;5;28;01mTrue\u001b[39;00m} \u001b[38;5;66;03m# TypeError: unhashable type: 'list'\u001b[39;00m\n",
      "\u001b[1;31mTypeError\u001b[0m: unhashable type: 'list'"
     ]
    }
   ],
   "source": [
    "# dictionary keys\n",
    "# dictionary keys are unique\n",
    "# dictionary keys are immutable\n",
    "# dictionary keys can be of any data type\n",
    "dictionary = {1:\"one\",2:\"two\",3:\"three\",4:True,5:False,6:[1,2,3],\n",
    "              [100]:True} # TypeError: unhashable type: 'list'\n"
   ]
  },
  {
   "cell_type": "code",
   "execution_count": 94,
   "metadata": {},
   "outputs": [
    {
     "name": "stdout",
     "output_type": "stream",
     "text": [
      "{'name': 'John', 'age': 30, 'city': 'New York', 'country': 'USA', 'job': 'Developer', 'salary': 100000}\n",
      "dict_keys(['name', 'age', 'city', 'country', 'job', 'salary'])\n",
      "dict_values(['John', 30, 'New York', 'USA', 'Developer', 100000])\n",
      "dict_items([('name', 'John'), ('age', 30), ('city', 'New York'), ('country', 'USA'), ('job', 'Developer'), ('salary', 100000)])\n",
      "John\n",
      "30\n",
      "('salary', 100000)\n",
      "None\n",
      "{'name': 'John', 'city': 'New York', 'country': 'USA', 'job': 'Developer', 'age_new': 30}\n"
     ]
    }
   ],
   "source": [
    "# dictionary methods\n",
    "# dictionary methods are used to manipulate the dictionary\n",
    "new_dict = {\n",
    "    \"name\": \"John\",\n",
    "    \"age\": 30,\n",
    "    \"city\": \"New York\",\n",
    "    \"country\": \"USA\",\n",
    "    \"job\": \"Developer\",\n",
    "    \"salary\": 100000,\n",
    "}\n",
    "print(new_dict) # prints the dictionary\n",
    "print(new_dict.keys()) # prints the keys of the dictionary\n",
    "print(new_dict.values()) # prints the values of the dictionary\n",
    "print(new_dict.items()) # prints the items of the dictionary\n",
    "print(new_dict.get(\"name\")) # prints the value of the key \"name\"\n",
    "print(new_dict.pop(\"age\")) # removes the key \"age\" and returns its value\n",
    "print(new_dict.popitem()) # removes the last item and returns it as a tuple'\n",
    "print(new_dict.update({\"age_new\": 30})) # adds the key \"age\" with value 30 to the dictionary\n",
    "print(new_dict)"
   ]
  },
  {
   "cell_type": "code",
   "execution_count": 95,
   "metadata": {},
   "outputs": [
    {
     "name": "stdout",
     "output_type": "stream",
     "text": [
      "{'name': 'John', 'age': 30, 'city': 'New York', 'country': 'USA', 'job': 'Developer', 'salary': 100000}\n"
     ]
    }
   ],
   "source": [
    "user2=dict(name=\"John\", age=30, city=\"New York\", country=\"USA\", job=\"Developer\", salary=100000)\n",
    "print(user2) # prints the dictionary"
   ]
  },
  {
   "cell_type": "code",
   "execution_count": 96,
   "metadata": {},
   "outputs": [
    {
     "name": "stdout",
     "output_type": "stream",
     "text": [
      "True\n",
      "True\n",
      "False\n",
      "None\n",
      "{}\n"
     ]
    }
   ],
   "source": [
    "print(\"John\" in user2.values()) # checks if \"John\" is in the dictionary\n",
    "print(\"name\" in user2.keys()) # checks if \"name\" is in the dictionary\n",
    "print(\"John\" in user2.items()) # checks if \"John\" is in the dictionary\n",
    "print(user2.clear()) # clears the dictionary\n",
    "user3=user2.copy() # copies the dictionary\n",
    "print(user3)"
   ]
  },
  {
   "cell_type": "code",
   "execution_count": 97,
   "metadata": {},
   "outputs": [
    {
     "name": "stdout",
     "output_type": "stream",
     "text": [
      "(1, 2, 3, 4, 5)\n"
     ]
    }
   ],
   "source": [
    "# tuples\n",
    "# tuple is a collection of objects\n",
    "# tuple is ordered sequence of objects\n",
    "# tuple is immutable - cannot be changed\n",
    "# tuple is iterable - can be looped over\n",
    "\n",
    "#define a tuple\n",
    "my_tuple = (1, 2, 3, 4, 5)\n",
    "print(my_tuple) # prints the tuple"
   ]
  },
  {
   "cell_type": "code",
   "execution_count": 98,
   "metadata": {},
   "outputs": [
    {
     "name": "stdout",
     "output_type": "stream",
     "text": [
      "1\n",
      "2\n"
     ]
    }
   ],
   "source": [
    "#access items in tuple\n",
    "print(my_tuple[0]) # prints the first item in the tuple\n",
    "print(my_tuple[1]) # prints the second item in the tuple\n"
   ]
  },
  {
   "cell_type": "code",
   "execution_count": 99,
   "metadata": {},
   "outputs": [],
   "source": [
    "# can we change the tuple? no\n",
    "# my_tuple[0] = 10 # TypeError: 'tuple' object does not support item assignment"
   ]
  },
  {
   "cell_type": "code",
   "execution_count": 100,
   "metadata": {},
   "outputs": [
    {
     "name": "stdout",
     "output_type": "stream",
     "text": [
      "1\n"
     ]
    }
   ],
   "source": [
    "print(my_tuple.count(1)) # counts the number of times 1 is in the tuple"
   ]
  },
  {
   "cell_type": "code",
   "execution_count": 101,
   "metadata": {},
   "outputs": [
    {
     "name": "stdout",
     "output_type": "stream",
     "text": [
      "0\n",
      "1\n",
      "5\n"
     ]
    }
   ],
   "source": [
    "print(my_tuple.index(1)) # prints the index of 1 in the tuple\n",
    "print(my_tuple.index(2)) # prints the index of 2 in the tuple\n",
    "print(len(my_tuple))"
   ]
  },
  {
   "cell_type": "markdown",
   "metadata": {},
   "source": [
    "### why do we want to use tuple when we can use list?\n",
    "#### tuple is immutable - cannot be changed\n",
    "#### tuple is faster than list - because it is immutable\n",
    "#### tuple is used to store multiple values in a single variable\n",
    "#### we can create a new tuple when the user selects new location to pick up and store the latitude and longitude\n",
    "#### tuple has only two methods\n"
   ]
  },
  {
   "cell_type": "code",
   "execution_count": 102,
   "metadata": {},
   "outputs": [
    {
     "name": "stdout",
     "output_type": "stream",
     "text": [
      "{1, 2, 3, 4, 5, 6, 7, 8, 9, 10}\n"
     ]
    }
   ],
   "source": [
    "# sets in python\n",
    "# sets in unordered collection of unique objects\n",
    "my_set={1,2,3,4,5,6,7,8,9,10}\n",
    "print(my_set)\n",
    "\n",
    "\n"
   ]
  },
  {
   "cell_type": "code",
   "execution_count": 103,
   "metadata": {},
   "outputs": [
    {
     "name": "stdout",
     "output_type": "stream",
     "text": [
      "{0, 1, 2, 3, 4, 5, 6, 8, 9}\n"
     ]
    }
   ],
   "source": [
    "my_set={1,2,2,2,3,4,5,6,6,8,9,0}\n",
    "print(my_set) # prints the set"
   ]
  },
  {
   "cell_type": "code",
   "execution_count": 104,
   "metadata": {},
   "outputs": [
    {
     "name": "stdout",
     "output_type": "stream",
     "text": [
      "{0, 1, 2, 3, 4, 5, 6, 8, 9, 10}\n",
      "{0, 1, 2, 3, 4, 5, 6, 8, 9}\n"
     ]
    }
   ],
   "source": [
    "my_set.add(10) # adds 10 to the set\n",
    "print(my_set) # prints the set\n",
    "my_set.remove(10) # removes 10 from the set\n",
    "print(my_set) # prints the set\n",
    "my_set.add(2)\n",
    "my_set.discard(2)"
   ]
  },
  {
   "cell_type": "code",
   "execution_count": 105,
   "metadata": {},
   "outputs": [
    {
     "data": {
      "text/plain": [
       "{0, 1, 3, 4, 5, 6, 8, 9}"
      ]
     },
     "execution_count": 105,
     "metadata": {},
     "output_type": "execute_result"
    }
   ],
   "source": [
    "my_set"
   ]
  },
  {
   "cell_type": "code",
   "execution_count": 106,
   "metadata": {},
   "outputs": [
    {
     "name": "stdout",
     "output_type": "stream",
     "text": [
      "True\n"
     ]
    }
   ],
   "source": [
    "print(1 in my_set)"
   ]
  },
  {
   "cell_type": "code",
   "execution_count": 107,
   "metadata": {},
   "outputs": [
    {
     "name": "stdout",
     "output_type": "stream",
     "text": [
      "[0, 1, 3, 4, 5, 6, 8, 9]\n"
     ]
    }
   ],
   "source": [
    "print(list(my_set)) # converts the set to a list"
   ]
  },
  {
   "cell_type": "code",
   "execution_count": 108,
   "metadata": {},
   "outputs": [
    {
     "name": "stdout",
     "output_type": "stream",
     "text": [
      "{1, 2, 3, 4, 5, 6}\n",
      "{1, 2, 3, 4, 5, 6}\n",
      "{3, 4, 5, 6}\n",
      "{3, 4, 5, 6}\n",
      "set()\n",
      "set()\n",
      "{7}\n",
      "set()\n",
      "set()\n",
      "set()\n",
      "set()\n"
     ]
    }
   ],
   "source": [
    "# set methods\n",
    "s1 = {1, 2, 3, 4}\n",
    "s2 = {3, 4, 5, 6}\n",
    "s3 = s1.union(s2)\n",
    "print(s3)\n",
    "s1.update(s2)\n",
    "print(s1)\n",
    "print(s2)\n",
    "s1.intersection_update(s2)\n",
    "print(s1)\n",
    "s1.symmetric_difference_update(s2)\n",
    "print(s1)\n",
    "s1.difference_update(s2)\n",
    "print(s1)\n",
    "s1.add(7)\n",
    "print(s1)\n",
    "s1.remove(7)\n",
    "print(s1)\n",
    "s1.discard(2)\n",
    "print(s1)\n",
    "s1.add(7)\n",
    "s1.pop()\n",
    "print(s1)\n",
    "s1.clear()\n",
    "print(s1) "
   ]
  },
  {
   "cell_type": "code",
   "execution_count": null,
   "metadata": {},
   "outputs": [],
   "source": []
  }
 ],
 "metadata": {
  "kernelspec": {
   "display_name": "Python 3",
   "language": "python",
   "name": "python3"
  },
  "language_info": {
   "codemirror_mode": {
    "name": "ipython",
    "version": 3
   },
   "file_extension": ".py",
   "mimetype": "text/x-python",
   "name": "python",
   "nbconvert_exporter": "python",
   "pygments_lexer": "ipython3",
   "version": "3.12.9"
  }
 },
 "nbformat": 4,
 "nbformat_minor": 2
}
