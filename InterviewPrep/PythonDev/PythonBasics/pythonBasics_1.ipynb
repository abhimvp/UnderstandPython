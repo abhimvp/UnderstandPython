{
 "cells": [
  {
   "cell_type": "code",
   "execution_count": 15,
   "metadata": {},
   "outputs": [
    {
     "name": "stdout",
     "output_type": "stream",
     "text": [
      "6\n",
      "-2\n",
      "8\n",
      "0.5\n",
      "16\n",
      "<class 'int'>\n",
      "<class 'float'>\n",
      "1\n",
      "1\n"
     ]
    }
   ],
   "source": [
    "# Numbers\n",
    "# integers\n",
    "print(2+4)\n",
    "print(2-4)\n",
    "print(2*4)\n",
    "print(2/4)\n",
    "print(2**4)\n",
    "print(type(2+4))\n",
    "print(type(2/4))\n",
    "print(5%4)\n",
    "print(5//4)\n",
    "# type(1)   # int \n",
    "# type(-10) # int\n",
    "# type(0)   # int\n",
    "# type(0.0) # float\n",
    "# type(2.2) # float\n",
    "# type(4E2) # float - 4*10 to the power of 2"
   ]
  },
  {
   "cell_type": "code",
   "execution_count": 1,
   "metadata": {},
   "outputs": [
    {
     "name": "stdout",
     "output_type": "stream",
     "text": [
      "25\n",
      "50\n",
      "5\n",
      "6\n",
      "5.47\n",
      "0b1000000000\n",
      "0b101\n",
      "0x200\n",
      "5\n"
     ]
    }
   ],
   "source": [
    "# Basic Functions\n",
    "print(pow(5, 2))      # 25 --> like doing 5**2\n",
    "print(abs(-50))       # 50\n",
    "print(round(5.46))    # 5\n",
    "print(round(5.9))  # 6 \n",
    "print(round(5.468, 2))# 5.47 --> round to nth digit\n",
    "print(bin(512))       # '0b1000000000' -->  binary format\n",
    "print(bin(5))\n",
    "print(hex(512))       # '0x200' --> hexadecimal format\n",
    "print(int('0b101',2)) # 5 --> convert binary to decimal"
   ]
  },
  {
   "cell_type": "code",
   "execution_count": 2,
   "metadata": {},
   "outputs": [
    {
     "name": "stdout",
     "output_type": "stream",
     "text": [
      "32\n",
      "8\n",
      "26.666666666666668\n",
      "24\n",
      "1.0\n",
      "92\n",
      "8\n",
      "512\n"
     ]
    }
   ],
   "source": [
    "#Operator Precedence\n",
    "print(20+3*4) # * first then +\n",
    "print(20-3*4) # * first then -\n",
    "print(20/3*4) # / first then *\n",
    "print(20//3*4) # // first then *\n",
    "print(20/3//4) # / first then //\n",
    "print((20+3)*4) # () first then *\n",
    "print(20-(3*4)) # () first then -\n",
    "# ()\n",
    "# ** exponentiation\n",
    "# * / // %\n",
    "# + -\n",
    "print(2**3**2) # right to left"
   ]
  },
  {
   "cell_type": "code",
   "execution_count": 3,
   "metadata": {},
   "outputs": [
    {
     "name": "stdout",
     "output_type": "stream",
     "text": [
      "5\n",
      "10\n",
      "15\n",
      "3.14\n",
      "1\n"
     ]
    }
   ],
   "source": [
    "# variables - to store values, user input, etc.\n",
    "x = 5 # x is a variable, 5 is the value\n",
    "y = 10 # y is a variable, 10 is the value\n",
    "print(x) # 5\n",
    "print(y) # 10\n",
    "print(x + y) # 15\n",
    "user_name = 'abhi'\n",
    "\n",
    "#constants - to store values that should not be changed\n",
    "PI = 3.14 # PI is a constant, 3.14 is the value\n",
    "print(PI) # 3.14\n",
    "\n",
    "a,b,c = 1,2,3 # multiple assignment\n",
    "print(a) # 1\n"
   ]
  },
  {
   "cell_type": "code",
   "execution_count": 4,
   "metadata": {},
   "outputs": [
    {
     "name": "stdout",
     "output_type": "stream",
     "text": [
      "20.0\n",
      "7\n",
      "5\n",
      "10\n"
     ]
    }
   ],
   "source": [
    "# expressions and statements\n",
    "iq=100\n",
    "user = iq/5 # iq/5 is an expression\n",
    "print(user) # this is a statement - entire line of code that performs some action\n",
    "\n",
    "# augmented assignment operator\n",
    "some_value = 5\n",
    "some_value += 2 # 7\n",
    "print(some_value) # 7\n",
    "some_value -= 2 # 5\n",
    "print(some_value) # 5\n",
    "some_value *= 2 # 10\n",
    "print(some_value) # 10"
   ]
  },
  {
   "cell_type": "code",
   "execution_count": 5,
   "metadata": {},
   "outputs": [
    {
     "name": "stdout",
     "output_type": "stream",
     "text": [
      "<class 'str'>\n",
      "W O W\n",
      "___\n",
      "\n",
      "W O W\n",
      "RahulSharma\n",
      "<class 'str'>\n",
      "<class 'int'>\n",
      "100.0\n"
     ]
    }
   ],
   "source": [
    "print(type(\"strings\"))\n",
    "# username=str(input(\"Enter your username: \"))\n",
    "# print(\"Hello\", username)\n",
    "long_string = '''W O W\n",
    "___\n",
    "\n",
    "W O W'''\n",
    "print(long_string)\n",
    "first_name = \"Rahul\"\n",
    "last_name = \"Sharma\"\n",
    "print(first_name + last_name) # RahulSharma\n",
    "# Type conversion\n",
    "print(type(str(100))) # <class 'str'>\n",
    "print(type(int(str(100)))) # <class 'int'>\n",
    "print(float(str(100))) # <class 'float'>\n"
   ]
  },
  {
   "cell_type": "code",
   "execution_count": 6,
   "metadata": {},
   "outputs": [
    {
     "name": "stdout",
     "output_type": "stream",
     "text": [
      "Hello \"World\"\n",
      "Hello 'World'\n",
      "It's \"kind of sunny\"\n",
      "It's \\ hello\n",
      "\t It's cool here \n",
      " hope you are having fun time!\n"
     ]
    }
   ],
   "source": [
    "# Escape Sequences\n",
    "\n",
    "print(\"Hello \\\"World\\\"\") # Hello \"World\"\n",
    "print(\"Hello \\'World\\'\") # Hello 'World'\n",
    "print(\"It\\'s \\\"kind of sunny\\\"\")\n",
    "print(\"It\\'s \\\\ hello\")\n",
    "print(\"\\t It\\'s cool here \\n hope you are having fun time!\")"
   ]
  },
  {
   "cell_type": "code",
   "execution_count": 7,
   "metadata": {},
   "outputs": [
    {
     "name": "stdout",
     "output_type": "stream",
     "text": [
      "Hello World\n",
      "Hello World\n",
      "This is a multi-line string.\n",
      "It can span multiple lines.\n",
      "6\n"
     ]
    }
   ],
   "source": [
    "# Introduction to Strings in Python\n",
    "# Strings are sequences of characters enclosed in quotes\n",
    "\n",
    "# Creating strings\n",
    "single_quotes = 'Hello World'\n",
    "double_quotes = \"Hello World\"\n",
    "triple_quotes = \"\"\"This is a multi-line string.\n",
    "It can span multiple lines.\"\"\"\n",
    "\n",
    "print(single_quotes)\n",
    "print(double_quotes)\n",
    "print(triple_quotes)\n",
    "\n",
    "# String length\n",
    "name = \"Python\"\n",
    "print(len(name))  # 6"
   ]
  },
  {
   "cell_type": "code",
   "execution_count": 8,
   "metadata": {},
   "outputs": [
    {
     "name": "stdout",
     "output_type": "stream",
     "text": [
      "H\n",
      "P\n",
      "lo Py\n",
      "!\n",
      "n\n",
      "Hello\n",
      "Python\n",
      "Hello\n",
      "Python!\n",
      "Hello Python!\n",
      "Hlo\n",
      "HlPh!\n",
      "HloPto!\n",
      "!nohtyP olleH\n"
     ]
    }
   ],
   "source": [
    "# String Indexing and Slicing\n",
    "# strings are stored in memory as ordered sequence of characters\n",
    "# Each character has a unique index starting from 0\n",
    "# and going up to length-1 for positive indexing\n",
    "# and from -1 down to -length for negative indexing\n",
    "#me me memo\n",
    "#0123456789\n",
    "# Indexing - accessing individual characters\n",
    "greeting = \"Hello Python!\"\n",
    "\n",
    "# Positive indexing (starts from 0)\n",
    "print(greeting[0])   # H\n",
    "print(greeting[6])   # P\n",
    "print(greeting[3:8]) # lo Py (characters from index 3 to 7)\n",
    "\n",
    "# Negative indexing (starts from -1)\n",
    "print(greeting[-1])  # ! (last character)\n",
    "print(greeting[-2])  # n (second last character)\n",
    "\n",
    "# Slicing - accessing a range of characters\n",
    "# syntax: string[start:end:step]\n",
    "print(greeting[0:5])    # Hello (characters from index 0 to 4)\n",
    "print(greeting[6:12])   # Python\n",
    "print(greeting[:5])     # Hello (from beginning to index 4)\n",
    "print(greeting[6:])     # Python! (from index 6 to the end)\n",
    "# [start:end:step] - start is inclusive, end is exclusive\n",
    "print(greeting[::])     # Hello Python! (entire string)\n",
    "print(greeting[0:5:2])  # Hlo (every second character from index 0 to 4)\n",
    "print(greeting[::3])    # Hloy (every third character)\n",
    "print(greeting[::2])    # HloPto! (every second character)\n",
    "print(greeting[::-1])   # !nohtyP olleH (reversed string)"
   ]
  },
  {
   "cell_type": "code",
   "execution_count": 9,
   "metadata": {},
   "outputs": [
    {
     "name": "stdout",
     "output_type": "stream",
     "text": [
      "John Doe\n",
      "hahaha\n",
      "2\n",
      "  PYTHON PROGRAMMING IS FUN!  \n",
      "  python programming is fun!  \n",
      "  python programming is fun!  \n",
      "  Python Programming Is Fun!  \n",
      "Python Programming is Fun!\n",
      "Python Programming is Fun!  \n",
      "  Python Programming is Fun!\n",
      "9\n",
      "  Python Programming is Amazing!  \n",
      "['Python', 'Programming', 'is', 'Fun!']\n",
      "  Python Programming is Fun!  \n"
     ]
    }
   ],
   "source": [
    "# String Operations and Methods\n",
    "\n",
    "# Concatenation (joining strings)\n",
    "first_name = \"John\"\n",
    "last_name = \"Doe\"\n",
    "full_name = first_name + \" \" + last_name\n",
    "print(full_name)  # John Doe\n",
    "\n",
    "# Repetition\n",
    "print(\"ha\" * 3)  # hahaha\n",
    "\n",
    "# String methods\n",
    "text = \"  Python Programming is Fun!  \"\n",
    "print(text.count(\"P\"))  # Count occurrences of 'P'\n",
    "\n",
    "# Case conversion\n",
    "print(text.upper())      # Convert to uppercase\n",
    "print(text.lower())      # Convert to lowercase\n",
    "print(text.capitalize()) # First letter capitalized\n",
    "print(text.title())      # First letter of each word capitalized\n",
    "\n",
    "# Removing whitespace\n",
    "print(text.strip())      # Remove leading and trailing whitespace\n",
    "print(text.lstrip())     # Remove leading whitespace\n",
    "print(text.rstrip())     # Remove trailing whitespace\n",
    "\n",
    "# Finding and replacing\n",
    "print(text.find(\"Programming\"))  # Returns index (2) or -1 if not found\n",
    "print(text.replace(\"Fun\", \"Amazing\"))  # Replace text - we are creating new sting and will be deleted after use\n",
    "print(text.split())      # Split string into list of words\n",
    "print(text) # we can't change them "
   ]
  },
  {
   "cell_type": "code",
   "execution_count": 10,
   "metadata": {},
   "outputs": [
    {
     "name": "stdout",
     "output_type": "stream",
     "text": [
      "True\n",
      "False\n",
      "True\n",
      "False\n",
      "True\n",
      "True\n",
      "True\n",
      "['Python', 'is', 'a', 'great', 'programming', 'language']\n",
      "['apple', 'banana', 'orange']\n",
      "apple-banana-orange\n"
     ]
    }
   ],
   "source": [
    "# More String Methods and Operations - Builtin Functions + Methods\n",
    "# Checking membership\n",
    "text = \"Python is a great programming language\"\n",
    "print(\"Python\" in text)  # True\n",
    "print(\"java\" in text)    # False\n",
    "\n",
    "# Checking string properties\n",
    "text = \"Python123\"\n",
    "print(text.isalnum())   # True - contains only alphanumeric characters\n",
    "print(text.isalpha())   # False - contains numbers\n",
    "print(\"123\".isdigit()) # True - contains only digits\n",
    "print(\"PYTHON\".isupper()) # True - all characters are uppercase\n",
    "print(\"python\".islower()) # True - all characters are lowercase\n",
    "\n",
    "# Splitting and joining\n",
    "sentence = \"Python is a great programming language\"\n",
    "words = sentence.split()  # Split by whitespace by default\n",
    "print(words)  # ['Python', 'is', 'a', 'great', 'programming', 'language']\n",
    "\n",
    "csv = \"apple,banana,orange\"\n",
    "fruits = csv.split(\",\")  # Split by comma\n",
    "print(fruits)  # ['apple', 'banana', 'orange']\n",
    "\n",
    "# Join items in a list into a string\n",
    "joined = \"-\".join(fruits)  # Join with hyphen\n",
    "print(joined)  # apple-banana-orange"
   ]
  },
  {
   "cell_type": "code",
   "execution_count": 11,
   "metadata": {},
   "outputs": [
    {
     "name": "stdout",
     "output_type": "stream",
     "text": [
      "Alice is 25 years old\n",
      "Alice is 25 years old\n",
      "Bob is 30 years old\n",
      "Alice is 25 years old\n",
      "ALICE is 50 in dog years\n",
      "Pi rounded to 2 decimal places: 3.14\n"
     ]
    }
   ],
   "source": [
    "# String Formatting\n",
    "\n",
    "# Old style formatting with %\n",
    "name = \"Alice\"\n",
    "age = 25\n",
    "print(\"%s is %d years old\" % (name, age))  # Alice is 25 years old\n",
    "\n",
    "# str.format() method\n",
    "print(\"{} is {} years old\".format(name, age))  # Alice is 25 years old\n",
    "print(\"{name} is {age} years old\".format(name=\"Bob\", age=30))  # Bob is 30 years old\n",
    "\n",
    "# f-strings (Python 3.6+)\n",
    "print(f\"{name} is {age} years old\")  # Alice is 25 years old\n",
    "print(f\"{name.upper()} is {age * 2} in dog years\")  # ALICE is 50 in dog years\n",
    "\n",
    "# Formatting numbers\n",
    "pi = 3.14159\n",
    "print(f\"Pi rounded to 2 decimal places: {pi:.2f}\")  # Pi rounded to 2 decimal places: 3.14"
   ]
  },
  {
   "cell_type": "code",
   "execution_count": 12,
   "metadata": {},
   "outputs": [
    {
     "name": "stdout",
     "output_type": "stream",
     "text": [
      "Jython\n",
      "This is a line\n",
      "This is a new line\n",
      "This is a \"quoted\" text\n",
      "This is a backslash: \\\n",
      "Column1\tColumn2\tColumn3\n",
      "C:\\Users\\name\\documents\n"
     ]
    }
   ],
   "source": [
    "# String Immutability and Escape Characters\n",
    "\n",
    "# Strings are immutable (cannot be changed after creation)\n",
    "name = \"Python\"\n",
    "# name[0] = \"J\"  # This would cause TypeError: 'str' object does not support item assignment\n",
    "\n",
    "# To modify a string, you create a new string\n",
    "new_name = \"J\" + name[1:]\n",
    "print(new_name)  # Jython\n",
    "\n",
    "# Escape characters\n",
    "print(\"This is a line\\nThis is a new line\")  # \\n creates a new line\n",
    "print(\"This is a \\\"quoted\\\" text\")  # \\\" to include quotes in a string\n",
    "print(\"This is a backslash: \\\\\")  # \\\\ to include a backslash\n",
    "print(\"Column1\\tColumn2\\tColumn3\")  # \\t for tab\n",
    "\n",
    "# Raw strings - ignore escape characters\n",
    "print(r\"C:\\Users\\name\\documents\")  # Print exactly as written, without processing escape characters"
   ]
  },
  {
   "cell_type": "code",
   "execution_count": 13,
   "metadata": {},
   "outputs": [
    {
     "name": "stdout",
     "output_type": "stream",
     "text": [
      "True\n",
      "False\n",
      "True\n",
      "False\n",
      "True\n",
      "False\n",
      "False\n"
     ]
    }
   ],
   "source": [
    "# booleans\n",
    "\n",
    "# bool - True - False\n",
    "# 1 - True\n",
    "# 0 - False\n",
    "\n",
    "print(bool(1))\n",
    "print(bool(0))\n",
    "\n",
    "print(bool(\"Hello\"))\n",
    "print(bool(\"\"))\n",
    "\n",
    "print(bool([1, 2, 3]))\n",
    "print(bool([]))\n",
    "\n",
    "print(bool(None))"
   ]
  },
  {
   "cell_type": "code",
   "execution_count": 14,
   "metadata": {},
   "outputs": [
    {
     "name": "stdout",
     "output_type": "stream",
     "text": [
      "<class 'str'>\n",
      "you're abhi and your age is 20 and currently you're single and you were born in 2005 \n"
     ]
    }
   ],
   "source": [
    "# Type conversion\n",
    "name = \"abhi\"\n",
    "\n",
    "relationship_status= \"single\"\n",
    "birth_year = input(\"what year were you born?\")\n",
    "age = 2025 - int(birth_year) # converting string to int\n",
    "print(type(birth_year)) # <class 'str'>\n",
    "print(f\"you\\'re {name} and your age is {age} and currently you\\'re {relationship_status} and you were born in {birth_year} \")"
   ]
  },
  {
   "cell_type": "code",
   "execution_count": null,
   "metadata": {},
   "outputs": [],
   "source": []
  }
 ],
 "metadata": {
  "kernelspec": {
   "display_name": "Python 3",
   "language": "python",
   "name": "python3"
  },
  "language_info": {
   "codemirror_mode": {
    "name": "ipython",
    "version": 3
   },
   "file_extension": ".py",
   "mimetype": "text/x-python",
   "name": "python",
   "nbconvert_exporter": "python",
   "pygments_lexer": "ipython3",
   "version": "3.12.9"
  }
 },
 "nbformat": 4,
 "nbformat_minor": 2
}
