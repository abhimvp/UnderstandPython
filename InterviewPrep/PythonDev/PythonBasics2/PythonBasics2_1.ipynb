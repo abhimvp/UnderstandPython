{
 "cells": [
  {
   "metadata": {},
   "cell_type": "markdown",
   "source": "### Conditional logic",
   "id": "f1ae769b50f5a0d1"
  },
  {
   "metadata": {
    "ExecuteTime": {
     "end_time": "2025-04-17T04:01:24.248250Z",
     "start_time": "2025-04-17T04:01:24.237117Z"
    }
   },
   "cell_type": "code",
   "source": [
    "from sqlalchemy import false\n",
    "\n",
    "# we have True , False as booleans\n",
    "is_old = True\n",
    "is_licensed = True\n",
    "\n",
    "if is_old and is_licensed:\n",
    "    print(\"1 yes you're old enough to drive\")\n",
    "print(\"1 check check\")\n",
    "# depending upon is_old / old_licensed value , the above conditional statement plays & able to control the flow.\n",
    "\n",
    "is_old = False\n",
    "is_licensed = False\n",
    "if is_old and is_licensed:  #expression\n",
    "    print(\"2 yes you're old enough to drive\")\n",
    "    print(\"2 check check\")\n",
    "else:\n",
    "    print(\"2 no\")\n",
    "\n",
    "is_old = False\n",
    "is_licensed = True\n",
    "if is_old:\n",
    "    print(\"3 yes you're old enough to drive\")\n",
    "elif is_licensed:\n",
    "    print(\"3 yes you've license to drive & not have age\")\n",
    "else:\n",
    "    print(\"no\")"
   ],
   "id": "5caee38a5cc61e04",
   "outputs": [
    {
     "name": "stdout",
     "output_type": "stream",
     "text": [
      "1 yes you're old enough to drive\n",
      "1 check check\n",
      "2 no\n",
      "3 yes you've license to drive & not have age\n"
     ]
    }
   ],
   "execution_count": 7
  },
  {
   "metadata": {
    "ExecuteTime": {
     "end_time": "2025-04-17T04:13:52.437994Z",
     "start_time": "2025-04-17T04:13:52.428478Z"
    }
   },
   "cell_type": "code",
   "source": [
    "# Truthy vs Falsey\n",
    "\n",
    "username = \"abhi\"\n",
    "password = \"<PASSWORD>\"\n",
    "\n",
    "if username and password:\n",
    "    print(\"proceed to call api\")\n",
    "else:\n",
    "    print(\"verify username and password\")"
   ],
   "id": "63482fb057703b41",
   "outputs": [
    {
     "name": "stdout",
     "output_type": "stream",
     "text": [
      "proceed to call api\n"
     ]
    }
   ],
   "execution_count": 8
  },
  {
   "metadata": {
    "ExecuteTime": {
     "end_time": "2025-04-17T04:17:08.320965Z",
     "start_time": "2025-04-17T04:17:08.311088Z"
    }
   },
   "cell_type": "code",
   "source": [
    "# terinary operator - similar to else if - conditional expression\n",
    "\n",
    "# condition_if_tue if conditon else condition_if_false\n",
    "is_friend = True\n",
    "can_message = \"message allowed\" if is_friend else \"message unallowed\"\n",
    "print(can_message)"
   ],
   "id": "35b644ea164c698c",
   "outputs": [
    {
     "name": "stdout",
     "output_type": "stream",
     "text": [
      "message allowed\n"
     ]
    }
   ],
   "execution_count": 10
  },
  {
   "metadata": {
    "ExecuteTime": {
     "end_time": "2025-04-17T04:17:50.089234Z",
     "start_time": "2025-04-17T04:17:50.081390Z"
    }
   },
   "cell_type": "code",
   "source": [
    "is_friend = False\n",
    "can_message = \"message allowed\" if is_friend else \"message unallowed\"\n",
    "print(can_message)"
   ],
   "id": "a530fb167894c80b",
   "outputs": [
    {
     "name": "stdout",
     "output_type": "stream",
     "text": [
      "message unallowed\n"
     ]
    }
   ],
   "execution_count": 12
  },
  {
   "metadata": {
    "ExecuteTime": {
     "end_time": "2025-04-17T04:22:42.806259Z",
     "start_time": "2025-04-17T04:22:42.796216Z"
    }
   },
   "cell_type": "code",
   "source": [
    "# Short circuiting\n",
    "is_friend = True\n",
    "is_user = True\n",
    "print(is_friend and is_user)\n",
    "if is_friend or is_user:  # short circuiting = if is_friend is already True then i see or , then i don't have to lookup is_user at all, sc happens when the interpreter feels it has done enough work & i don't care what is_user is at all.it says i am going to short circuit is_user and print whatever.\n",
    "    print(\"best friends forver\")\n"
   ],
   "id": "4da3374bc32b1344",
   "outputs": [
    {
     "name": "stdout",
     "output_type": "stream",
     "text": [
      "True\n",
      "best friends forver\n"
     ]
    }
   ],
   "execution_count": 15
  },
  {
   "metadata": {},
   "cell_type": "code",
   "outputs": [],
   "execution_count": null,
   "source": "",
   "id": "15d99492d580caf5"
  }
 ],
 "metadata": {
  "kernelspec": {
   "display_name": "Python 3",
   "language": "python",
   "name": "python3"
  },
  "language_info": {
   "codemirror_mode": {
    "name": "ipython",
    "version": 2
   },
   "file_extension": ".py",
   "mimetype": "text/x-python",
   "name": "python",
   "nbconvert_exporter": "python",
   "pygments_lexer": "ipython2",
   "version": "2.7.6"
  }
 },
 "nbformat": 4,
 "nbformat_minor": 5
}
