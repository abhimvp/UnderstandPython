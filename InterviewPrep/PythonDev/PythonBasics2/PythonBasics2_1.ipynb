{
 "cells": [
  {
   "cell_type": "markdown",
   "id": "f1ae769b50f5a0d1",
   "metadata": {},
   "source": [
    "### Conditional logic"
   ]
  },
  {
   "cell_type": "code",
   "execution_count": 7,
   "id": "5caee38a5cc61e04",
   "metadata": {
    "ExecuteTime": {
     "end_time": "2025-04-17T04:01:24.248250Z",
     "start_time": "2025-04-17T04:01:24.237117Z"
    }
   },
   "outputs": [
    {
     "name": "stdout",
     "output_type": "stream",
     "text": [
      "1 yes you're old enough to drive\n",
      "1 check check\n",
      "2 no\n",
      "3 yes you've license to drive & not have age\n"
     ]
    }
   ],
   "source": [
    "from sqlalchemy import false\n",
    "\n",
    "# we have True , False as booleans\n",
    "is_old = True\n",
    "is_licensed = True\n",
    "\n",
    "if is_old and is_licensed:\n",
    "    print(\"1 yes you're old enough to drive\")\n",
    "print(\"1 check check\")\n",
    "# depending upon is_old / old_licensed value , the above conditional statement plays & able to control the flow.\n",
    "\n",
    "is_old = False\n",
    "is_licensed = False\n",
    "if is_old and is_licensed:  #expression\n",
    "    print(\"2 yes you're old enough to drive\")\n",
    "    print(\"2 check check\")\n",
    "else:\n",
    "    print(\"2 no\")\n",
    "\n",
    "is_old = False\n",
    "is_licensed = True\n",
    "if is_old:\n",
    "    print(\"3 yes you're old enough to drive\")\n",
    "elif is_licensed:\n",
    "    print(\"3 yes you've license to drive & not have age\")\n",
    "else:\n",
    "    print(\"no\")"
   ]
  },
  {
   "cell_type": "code",
   "execution_count": 8,
   "id": "63482fb057703b41",
   "metadata": {
    "ExecuteTime": {
     "end_time": "2025-04-17T04:13:52.437994Z",
     "start_time": "2025-04-17T04:13:52.428478Z"
    }
   },
   "outputs": [
    {
     "name": "stdout",
     "output_type": "stream",
     "text": [
      "proceed to call api\n"
     ]
    }
   ],
   "source": [
    "# Truthy vs Falsey\n",
    "\n",
    "username = \"abhi\"\n",
    "password = \"<PASSWORD>\"\n",
    "\n",
    "if username and password:\n",
    "    print(\"proceed to call api\")\n",
    "else:\n",
    "    print(\"verify username and password\")"
   ]
  },
  {
   "cell_type": "code",
   "execution_count": 10,
   "id": "35b644ea164c698c",
   "metadata": {
    "ExecuteTime": {
     "end_time": "2025-04-17T04:17:08.320965Z",
     "start_time": "2025-04-17T04:17:08.311088Z"
    }
   },
   "outputs": [
    {
     "name": "stdout",
     "output_type": "stream",
     "text": [
      "message allowed\n"
     ]
    }
   ],
   "source": [
    "# terinary operator - similar to else if - conditional expression\n",
    "\n",
    "# condition_if_tue if conditon else condition_if_false\n",
    "is_friend = True\n",
    "can_message = \"message allowed\" if is_friend else \"message unallowed\"\n",
    "print(can_message)"
   ]
  },
  {
   "cell_type": "code",
   "execution_count": 12,
   "id": "a530fb167894c80b",
   "metadata": {
    "ExecuteTime": {
     "end_time": "2025-04-17T04:17:50.089234Z",
     "start_time": "2025-04-17T04:17:50.081390Z"
    }
   },
   "outputs": [
    {
     "name": "stdout",
     "output_type": "stream",
     "text": [
      "message unallowed\n"
     ]
    }
   ],
   "source": [
    "is_friend = False\n",
    "can_message = \"message allowed\" if is_friend else \"message unallowed\"\n",
    "print(can_message)"
   ]
  },
  {
   "cell_type": "code",
   "execution_count": 15,
   "id": "4da3374bc32b1344",
   "metadata": {
    "ExecuteTime": {
     "end_time": "2025-04-17T04:22:42.806259Z",
     "start_time": "2025-04-17T04:22:42.796216Z"
    }
   },
   "outputs": [
    {
     "name": "stdout",
     "output_type": "stream",
     "text": [
      "True\n",
      "best friends forver\n"
     ]
    }
   ],
   "source": [
    "# Short circuiting\n",
    "is_friend = True\n",
    "is_user = True\n",
    "print(is_friend and is_user)\n",
    "if is_friend or is_user:  # short circuiting = if is_friend is already True then i see or , then i don't have to lookup is_user at all, sc happens when the interpreter feels it has done enough work & i don't care what is_user is at all.it says i am going to short circuit is_user and print whatever.\n",
    "    print(\"best friends forver\")\n"
   ]
  },
  {
   "cell_type": "code",
   "execution_count": null,
   "id": "15d99492d580caf5",
   "metadata": {},
   "outputs": [
    {
     "name": "stdout",
     "output_type": "stream",
     "text": [
      "False\n",
      "True False True True False\n",
      "True\n",
      "False\n",
      "True\n",
      "False True\n",
      "True False\n"
     ]
    }
   ],
   "source": [
    "# logical operators - or,and, not, >, <, ==, !=, <=, >=\n",
    "print(4>5)\n",
    "print(4<5,4==5,4!=5,4<=5,4>=5)\n",
    "print(4>5 or 4<5)\n",
    "print('a'>'b')\n",
    "print('a'>'A')\n",
    "print(0!=0,0!=1)\n",
    "print(not(0!=0), not(0!=1)) # not is a keyword and also a function in python. not is a logical operator which negates the value of the expression."
   ]
  },
  {
   "cell_type": "code",
   "execution_count": 18,
   "id": "f28d5feb",
   "metadata": {},
   "outputs": [
    {
     "name": "stdout",
     "output_type": "stream",
     "text": [
      "True\n",
      "False\n",
      "False\n",
      "True\n",
      "True\n",
      "------------------------\n",
      "True\n",
      "False\n"
     ]
    }
   ],
   "source": [
    "# is vs ==\n",
    "# is checks if the object is same in memory location or not. == checks if the values are same or not.\n",
    "print(True ==1)\n",
    "print('1'==1)\n",
    "print([]==1)\n",
    "print(10==10.0)\n",
    "print([]==[])\n",
    "print('------------------------')\n",
    "print(True is True)\n",
    "# print('1' is '1')\n",
    "print([] is [])"
   ]
  },
  {
   "cell_type": "code",
   "execution_count": 20,
   "id": "e3a5ef30",
   "metadata": {},
   "outputs": [
    {
     "name": "stdout",
     "output_type": "stream",
     "text": [
      "Z\n",
      "e\n",
      "r\n",
      "o\n",
      " \n",
      "t\n",
      "o\n",
      " \n",
      "H\n",
      "e\n",
      "r\n",
      "o\n"
     ]
    }
   ],
   "source": [
    "# for loops\n",
    "\n",
    "for item in 'Zero to Hero': #'Zero to Hero' is a iterable object\n",
    "    print(item) "
   ]
  },
  {
   "cell_type": "code",
   "execution_count": 24,
   "id": "ab115e0f",
   "metadata": {},
   "outputs": [
    {
     "name": "stdout",
     "output_type": "stream",
     "text": [
      "1\n",
      "2\n",
      "3\n",
      "4\n",
      "5\n",
      "h1: 5\n"
     ]
    }
   ],
   "source": [
    "for item in (1,2,3,4,5):\n",
    "    print(item)\n",
    "print('h1:',item)"
   ]
  },
  {
   "cell_type": "code",
   "execution_count": 25,
   "id": "d339176f",
   "metadata": {},
   "outputs": [
    {
     "name": "stdout",
     "output_type": "stream",
     "text": [
      "1 a\n",
      "1 b\n",
      "1 c\n",
      "2 a\n",
      "2 b\n",
      "2 c\n",
      "3 a\n",
      "3 b\n",
      "3 c\n"
     ]
    }
   ],
   "source": [
    "for item in (1,2,3):\n",
    "    for x in ['a', 'b', 'c']:\n",
    "        print(item, x)"
   ]
  },
  {
   "cell_type": "code",
   "execution_count": 29,
   "id": "af16da1d",
   "metadata": {},
   "outputs": [
    {
     "name": "stdout",
     "output_type": "stream",
     "text": [
      "('name', 'Golem')\n",
      "('age', 5006)\n",
      "('can_swim', False)\n",
      "Golem\n",
      "5006\n",
      "False\n",
      "name\n",
      "age\n",
      "can_swim\n",
      "name : Golem\n",
      "age : 5006\n",
      "can_swim : False\n",
      "55\n"
     ]
    }
   ],
   "source": [
    "# iterables\n",
    "# simply means it is an object or a collection that can be iterated over. it can be a list, tuple, set, dictionary, string, etc.\n",
    "# iterated -> one by one check each item in the collection\n",
    "\n",
    "user = {\n",
    "    'name': 'Golem',\n",
    "    'age': 5006,\n",
    "    'can_swim': False\n",
    "}\n",
    "\n",
    "for item in user.items():\n",
    "    print(item)\n",
    "\n",
    "for item in user.values():\n",
    "    print(item)\n",
    "\n",
    "for item in user.keys():\n",
    "    print(item)\n",
    "\n",
    "for key, value in user.items():\n",
    "    print(key,\":\", value)\n",
    "\n",
    "myList = [1,2,3,4,5,6,7,8,9,10]\n",
    "counter=0\n",
    "for item in myList:\n",
    "    counter+=item\n",
    "print(counter)\n",
    "    \n"
   ]
  },
  {
   "cell_type": "code",
   "execution_count": 1,
   "id": "3eedcee4",
   "metadata": {},
   "outputs": [
    {
     "name": "stdout",
     "output_type": "stream",
     "text": [
      "range(0, 100)\n"
     ]
    }
   ],
   "source": [
    "# range()\n",
    "# range is a built-in function in python which generates a sequence of numbers. it is often used in for loops to iterate over a sequence of numbers.\n",
    "print(range(100))"
   ]
  },
  {
   "cell_type": "code",
   "execution_count": 2,
   "id": "4c5b16dd",
   "metadata": {},
   "outputs": [
    {
     "name": "stdout",
     "output_type": "stream",
     "text": [
      "<class 'range'>\n"
     ]
    }
   ],
   "source": [
    "print(type(range(100))) # range is a class in python. it is not a list, tuple, set, etc. it is a class which generates a sequence of numbers."
   ]
  },
  {
   "cell_type": "code",
   "execution_count": null,
   "id": "14046257",
   "metadata": {},
   "outputs": [
    {
     "name": "stdout",
     "output_type": "stream",
     "text": [
      "0\n",
      "Hello World\n",
      "1\n",
      "Hello World\n",
      "2\n",
      "Hello World\n",
      "3\n",
      "Hello World\n",
      "4\n",
      "Hello World\n",
      "5\n",
      "Hello World\n",
      "6\n",
      "Hello World\n",
      "7\n",
      "Hello World\n",
      "8\n",
      "Hello World\n",
      "9\n",
      "Hello World\n"
     ]
    }
   ],
   "source": [
    "for i in range(0,10): # 0 to n-1 times\n",
    "    print(i)\n",
    "    print(\"Hello World\")"
   ]
  },
  {
   "cell_type": "code",
   "execution_count": 4,
   "id": "81582d3c",
   "metadata": {},
   "outputs": [
    {
     "name": "stdout",
     "output_type": "stream",
     "text": [
      "meow\n",
      "meow\n",
      "meow\n"
     ]
    }
   ],
   "source": [
    "for _ in range(0,3):\n",
    "    print(\"meow\")"
   ]
  },
  {
   "cell_type": "code",
   "execution_count": 5,
   "id": "76e6a82a",
   "metadata": {},
   "outputs": [
    {
     "name": "stdout",
     "output_type": "stream",
     "text": [
      "0\n",
      "2\n",
      "4\n",
      "6\n",
      "8\n"
     ]
    }
   ],
   "source": [
    "for _ in range(0,10,2):\n",
    "    print(_)"
   ]
  },
  {
   "cell_type": "code",
   "execution_count": 8,
   "id": "f9e2add6",
   "metadata": {},
   "outputs": [
    {
     "name": "stdout",
     "output_type": "stream",
     "text": [
      "10\n",
      "8\n",
      "6\n",
      "4\n",
      "2\n"
     ]
    }
   ],
   "source": [
    "for _ in range(10,0,-2):\n",
    "    print(_)"
   ]
  },
  {
   "cell_type": "code",
   "execution_count": 9,
   "id": "06232835",
   "metadata": {},
   "outputs": [
    {
     "name": "stdout",
     "output_type": "stream",
     "text": [
      "[0, 1, 2, 3, 4]\n",
      "[0, 1, 2, 3, 4]\n"
     ]
    }
   ],
   "source": [
    "for _ in range(2):\n",
    "    print(list(range(5)))"
   ]
  },
  {
   "cell_type": "code",
   "execution_count": null,
   "id": "071c0a65",
   "metadata": {},
   "outputs": [
    {
     "name": "stdout",
     "output_type": "stream",
     "text": [
      "0 H\n",
      "1 e\n",
      "2 l\n",
      "3 l\n",
      "4 o\n",
      "5 o\n",
      "6 o\n",
      "7 o\n",
      "8 o\n"
     ]
    }
   ],
   "source": [
    "# enumerate() \n",
    "# enumerate is a built-in function in python which adds a counter to an iterable and returns it as an enumerate object. \n",
    "# it is often used in for loops to iterate over a sequence of numbers with a counter.\n",
    "# gives us index and value of the item in the iterable.\n",
    "for i,char in enumerate('Hellooooo'):\n",
    "    print(i,char)\n",
    "    "
   ]
  },
  {
   "cell_type": "code",
   "execution_count": 11,
   "id": "dd89c5ff",
   "metadata": {},
   "outputs": [
    {
     "name": "stdout",
     "output_type": "stream",
     "text": [
      "0 1\n",
      "1 2\n",
      "2 3\n",
      "3 4\n",
      "4 5\n",
      "5 6\n"
     ]
    }
   ],
   "source": [
    "for i,num in enumerate([1,2,3,4,5,6]):\n",
    "    print(i,num)"
   ]
  },
  {
   "cell_type": "code",
   "execution_count": 12,
   "id": "99f5dfa1",
   "metadata": {},
   "outputs": [
    {
     "name": "stdout",
     "output_type": "stream",
     "text": [
      "15\n",
      "14\n",
      "13\n",
      "12\n",
      "11\n"
     ]
    }
   ],
   "source": [
    "#while loops\n",
    "# while loops are used to execute a block of code as long as a condition is true.\n",
    "i=15\n",
    "while i>10:\n",
    "    print(i)\n",
    "    i-=1"
   ]
  },
  {
   "cell_type": "code",
   "execution_count": 14,
   "id": "d4337eee",
   "metadata": {},
   "outputs": [
    {
     "name": "stdout",
     "output_type": "stream",
     "text": [
      "0\n",
      "1\n",
      "1\n",
      "2\n",
      "2\n",
      "3\n",
      "3\n"
     ]
    }
   ],
   "source": [
    "i=0 \n",
    "while 0<100:\n",
    "    print(i)\n",
    "    i+=1\n",
    "    if i==4:\n",
    "        break # break statement is used to exit the loop.\n",
    "    print(i)"
   ]
  },
  {
   "cell_type": "code",
   "execution_count": 15,
   "id": "8897afb1",
   "metadata": {},
   "outputs": [
    {
     "name": "stdout",
     "output_type": "stream",
     "text": [
      "0\n",
      "1\n",
      "2\n",
      "3\n",
      "i is not less than 4\n"
     ]
    }
   ],
   "source": [
    "i=0\n",
    "while i<4:\n",
    "    print(i)\n",
    "    i=i+1\n",
    "else:\n",
    "    print(\"i is not less than 4\")"
   ]
  },
  {
   "cell_type": "markdown",
   "id": "20c9aa63",
   "metadata": {},
   "source": [
    "## when should you use a while loop & when should you use a for loop?\n",
    "### while loop is used when you don't know how many times you need to loop\n",
    "### for loop is used when you know how many times you need to loop"
   ]
  },
  {
   "cell_type": "code",
   "execution_count": 19,
   "id": "32b446b6",
   "metadata": {},
   "outputs": [
    {
     "name": "stdout",
     "output_type": "stream",
     "text": [
      "0\n",
      "1\n",
      "2\n",
      "3\n",
      "4\n",
      "done\n",
      "0\n",
      "1\n",
      "2\n",
      "3\n",
      "4\n",
      "done\n",
      "0\n",
      "1\n",
      "2\n",
      "3\n",
      "4\n",
      "done\n",
      "1\n",
      "2\n",
      "3\n",
      "4\n",
      "7\n"
     ]
    }
   ],
   "source": [
    "# for loop\n",
    "for i in range(5):\n",
    "    print(i)\n",
    "print(\"done\")\n",
    "# while loop\n",
    "i = 0\n",
    "while i < 5:\n",
    "    print(i)\n",
    "    i += 1\n",
    "print(\"done\")\n",
    "# while loop with break\n",
    "i = 0\n",
    "while True:\n",
    "    print(i)\n",
    "    i += 1\n",
    "    if i == 5:\n",
    "        break\n",
    "print(\"done\")\n",
    "# while loop with continue\n",
    "i = 0\n",
    "while i < 7:\n",
    "    i += 1\n",
    "    if i == 5:\n",
    "        i=i+1\n",
    "        continue\n",
    "    print(i)"
   ]
  },
  {
   "cell_type": "code",
   "execution_count": 21,
   "id": "ad32ca50",
   "metadata": {},
   "outputs": [
    {
     "name": "stdout",
     "output_type": "stream",
     "text": [
      "2\n",
      "3\n",
      "4\n",
      "break statement\n",
      "3\n",
      "4\n",
      "continue statement, skip 5\n",
      "6\n",
      "continue statement\n",
      "3\n",
      "4\n",
      "5\n",
      "6\n",
      "pass statement\n"
     ]
    }
   ],
   "source": [
    "# break , continue , pass\n",
    "# break statement is used to exit the loop.\n",
    "# continue statement is used to skip the current iteration of the loop.\n",
    "# pass statement is used to do nothing.\n",
    "# break statement\n",
    "for i in range(2, 8):\n",
    "    if i == 5:\n",
    "        break\n",
    "    print(i)\n",
    "print(\"break statement\")\n",
    "# continue statement\n",
    "for i in range(3, 7):\n",
    "    if i == 5:\n",
    "        print(\"continue statement, skip 5\")\n",
    "        continue\n",
    "    print(i)\n",
    "print(\"continue statement\")\n",
    "# pass statement\n",
    "for i in range(3, 7):\n",
    "    if i == 5:\n",
    "        pass\n",
    "    print(i)\n",
    "print(\"pass statement\")\n"
   ]
  },
  {
   "cell_type": "code",
   "execution_count": null,
   "id": "c1beef26",
   "metadata": {},
   "outputs": [],
   "source": []
  }
 ],
 "metadata": {
  "kernelspec": {
   "display_name": "Python 3",
   "language": "python",
   "name": "python3"
  },
  "language_info": {
   "codemirror_mode": {
    "name": "ipython",
    "version": 3
   },
   "file_extension": ".py",
   "mimetype": "text/x-python",
   "name": "python",
   "nbconvert_exporter": "python",
   "pygments_lexer": "ipython3",
   "version": "3.12.10"
  }
 },
 "nbformat": 4,
 "nbformat_minor": 5
}
