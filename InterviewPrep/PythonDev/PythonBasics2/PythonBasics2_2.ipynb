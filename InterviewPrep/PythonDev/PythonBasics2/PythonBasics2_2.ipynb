{
 "cells": [
  {
   "cell_type": "code",
   "execution_count": 1,
   "id": "7d7163a7",
   "metadata": {},
   "outputs": [],
   "source": [
    "#Exercise!\n",
    "#Display the image below to the right hand side where the 0 is going to be ' ', and the 1 is going to be '*'. This will reveal an image!\n",
    "picture = [\n",
    "  [0,0,0,1,0,0,0],\n",
    "  [0,0,1,1,1,0,0],\n",
    "  [0,1,1,1,1,1,0],\n",
    "  [1,1,1,1,1,1,1],\n",
    "  [0,0,0,1,0,0,0],\n",
    "  [0,0,0,1,0,0,0]\n",
    "]"
   ]
  },
  {
   "cell_type": "code",
   "execution_count": 4,
   "id": "9b3ec121",
   "metadata": {},
   "outputs": [
    {
     "name": "stdout",
     "output_type": "stream",
     "text": [
      "   *   \n",
      "  ***  \n",
      " ***** \n",
      "*******\n",
      "   *   \n",
      "   *   \n"
     ]
    }
   ],
   "source": [
    "for i in range(len(picture)):\n",
    "    for j in range(len(picture[i])):\n",
    "        if picture[i][j] == 0:\n",
    "            print(\" \", end=\"\")\n",
    "        else:\n",
    "            print(\"*\", end=\"\")\n",
    "    print()  # Move to the next line after each row"
   ]
  },
  {
   "cell_type": "code",
   "execution_count": 6,
   "id": "a105f7c9",
   "metadata": {},
   "outputs": [
    {
     "name": "stdout",
     "output_type": "stream",
     "text": [
      "   *   \n",
      "  ***  \n",
      " ***** \n",
      "*******\n",
      "   *   \n",
      "   *   \n"
     ]
    }
   ],
   "source": [
    "for image in picture:\n",
    "    for pixel in image:\n",
    "        if pixel == 0:\n",
    "            print(' ', end=\"\")\n",
    "        else:\n",
    "            print('*', end=\"\")\n",
    "    print()  # Move to the next line after each row"
   ]
  },
  {
   "cell_type": "markdown",
   "id": "6e86ad9b",
   "metadata": {},
   "source": [
    "### dev fundamentals\n",
    "what is good code?\n",
    "- clean\n",
    "- readability\n",
    "- predictability\n",
    "- Do not repeat yourself (DRY)"
   ]
  },
  {
   "cell_type": "code",
   "execution_count": 7,
   "id": "f09ba32d",
   "metadata": {},
   "outputs": [],
   "source": [
    "# check for duplicates in a list\n",
    "some_list = ['a', 'b', 'c', 'b', 'd', 'm', 'n', 'n']\n",
    "duplicates = []\n",
    "for item in some_list:\n",
    "    if some_list.count(item) > 1:\n",
    "        if item not in duplicates:\n",
    "            duplicates.append(item)"
   ]
  },
  {
   "cell_type": "code",
   "execution_count": 8,
   "id": "2926c42c",
   "metadata": {},
   "outputs": [
    {
     "data": {
      "text/plain": [
       "['b', 'n']"
      ]
     },
     "execution_count": 8,
     "metadata": {},
     "output_type": "execute_result"
    }
   ],
   "source": [
    "duplicates"
   ]
  },
  {
   "cell_type": "code",
   "execution_count": 12,
   "id": "ca4330c8",
   "metadata": {},
   "outputs": [
    {
     "name": "stdout",
     "output_type": "stream",
     "text": [
      "Hello from a function\n",
      "Hello John\n",
      "Hello Mary\n",
      "Hello Bob\n"
     ]
    }
   ],
   "source": [
    "# functions - we use def to define a function\n",
    "def hello_function():\n",
    "    print(\"Hello from a function\")\n",
    "\n",
    "hello_function() # call the function to use it\n",
    "#  functions are really useful for reusing code, and making it easier to read and maintain\n",
    "# functions allows us to keep our code DRY (Don't Repeat Yourself)\n",
    "\n",
    "def hello_function2(name):\n",
    "    print(\"Hello \" + name)\n",
    "\n",
    "hello_function2(\"John\")\n",
    "hello_function2(\"Mary\") \n",
    "hello_function2(\"Bob\")"
   ]
  },
  {
   "cell_type": "code",
   "execution_count": 14,
   "id": "e4023f5a",
   "metadata": {},
   "outputs": [
    {
     "name": "stdout",
     "output_type": "stream",
     "text": [
      "[1, 2, 3, 4, 5, 6, 7, 8, 9, 10]\n"
     ]
    }
   ],
   "source": [
    "a = list(range(1, 11)) # list of numbers from 1 to 10\n",
    "print(a)\n",
    "\n",
    "a.append(11)"
   ]
  },
  {
   "cell_type": "code",
   "execution_count": 15,
   "id": "08089851",
   "metadata": {},
   "outputs": [
    {
     "name": "stdout",
     "output_type": "stream",
     "text": [
      "[1, 2, 3, 4, 5, 6, 7, 8, 9, 10, 11]\n"
     ]
    }
   ],
   "source": [
    "print(a)"
   ]
  },
  {
   "cell_type": "code",
   "execution_count": 1,
   "id": "69a8e5f4",
   "metadata": {},
   "outputs": [
    {
     "name": "stdout",
     "output_type": "stream",
     "text": [
      "Hello Jack Bauer\n",
      "How do you do Jack Bauer?\n",
      "5\n"
     ]
    }
   ],
   "source": [
    "## arguments vs parameters\n",
    "# parameters are the variables that are defined in the function definition\n",
    "# arguments are the values that are passed to the function when it is called\n",
    "\n",
    "def greet(name): # name is a parameter\n",
    "    print(f\"Hello {name}\")\n",
    "    print(f\"How do you do {name}?\")\n",
    "\n",
    "greet(\"Jack Bauer\") # \"Jack Bauer\" is an argument\n",
    "\n",
    "def add(a, b): # a and b are parameters\n",
    "    print(a + b)\n",
    "\n",
    "add(2,3)"
   ]
  },
  {
   "cell_type": "code",
   "execution_count": 6,
   "id": "dc371f79",
   "metadata": {},
   "outputs": [
    {
     "name": "stdout",
     "output_type": "stream",
     "text": [
      "4\n",
      "13\n",
      "39\n",
      "49\n",
      "49\n"
     ]
    }
   ],
   "source": [
    "# default parameters & keyword arguments\n",
    "def func(a=1, b=2):\n",
    "    return (a-1) + b * 2\n",
    "\n",
    "\n",
    "print(func())\n",
    "print(func(4, 5))\n",
    "print(func(b=10, a=20)) # keyword arguments can be passed in any order if we use keyword arguments\n",
    "print(func(10, b=20))\n",
    "print(func(a=10, b=20))\n"
   ]
  },
  {
   "cell_type": "code",
   "execution_count": null,
   "id": "949e69a8",
   "metadata": {},
   "outputs": [
    {
     "name": "stdout",
     "output_type": "stream",
     "text": [
      "5\n",
      "-1\n",
      "6\n",
      "0.6666666666666666\n",
      "2\n",
      "8\n",
      "0\n"
     ]
    }
   ],
   "source": [
    "# return\n",
    "def add(a,b):\n",
    "    return a+b\n",
    "def sub(a,b):\n",
    "    return a-b\n",
    "def mul(a,b):\n",
    "    return a*b\n",
    "def div(a,b):\n",
    "    return a/b\n",
    "def mod(a,b):\n",
    "    return a%b\n",
    "def exp(a,b):\n",
    "    return a**b\n",
    "def flo(a,b):\n",
    "    return a//b\n",
    "a=int(input(\"enter the value of a:\"))\n",
    "b=int(input(\"enter the value of b:\"))\n",
    "print(add(a,b))\n",
    "print(sub(a,b))\n",
    "print(mul(a,b))\n",
    "print(div(a,b))\n",
    "print(mod(a,b))\n",
    "print(exp(a,b))\n",
    "print(flo(a,b))"
   ]
  },
  {
   "cell_type": "code",
   "execution_count": 3,
   "id": "d0027bc4",
   "metadata": {},
   "outputs": [
    {
     "name": "stdout",
     "output_type": "stream",
     "text": [
      "True\n"
     ]
    }
   ],
   "source": [
    "# a function should do one thing and do it well\n",
    "# a function should return something\n",
    "#  as soon as we return something, the function stops executing\n",
    "def is_even(number):\n",
    "    if number % 2 == 0:\n",
    "        return True\n",
    "    return False\n",
    "\n",
    "\n",
    "print(is_even(40))"
   ]
  },
  {
   "cell_type": "code",
   "execution_count": 6,
   "id": "0c5b4ce8",
   "metadata": {},
   "outputs": [],
   "source": [
    "\n",
    "\n",
    "#1. Wrap the above code in a function called checkDriverAge(). Whenever you call this function, you will get prompted for age. \n",
    "# Notice the benefit in having checkDriverAge() instead of copying and pasting the function everytime?\n",
    "\n",
    "def checkDriverAge1():\n",
    "    age = input(\"What is your age?: \")\n",
    "\n",
    "    if int(age) < 18:\n",
    "        print(\"Sorry, you are too young to drive this car. Powering off\")\n",
    "    elif int(age) > 18:\n",
    "        print(\"Powering On. Enjoy the ride!\");\n",
    "    elif int(age) == 18:\n",
    "        print(\"Congratulations on your first year of driving. Enjoy the ride!\")\n",
    "\n",
    "#2 Instead of using the input(). Now, make the checkDriverAge() function accept an argument of age, so that if you enter:\n",
    "#checkDriverAge(92);\n",
    "#it returns \"Powering On. Enjoy the ride!\"\n",
    "#also make it so that the default age is set to 0 if no argument is given.\n",
    "\n",
    "def checkDriverAge(age=0):\n",
    "    if int(age) < 18:\n",
    "        print(\"Sorry, you are too young to drive this car. Powering off\")\n",
    "    elif int(age) > 18:\n",
    "        print(\"Powering On. Enjoy the ride!\");\n",
    "    elif int(age) == 18:\n",
    "        print(\"Congratulations on your first year of driving. Enjoy the ride!\")"
   ]
  },
  {
   "cell_type": "code",
   "execution_count": 7,
   "id": "b687e195",
   "metadata": {},
   "outputs": [
    {
     "name": "stdout",
     "output_type": "stream",
     "text": [
      "Powering On. Enjoy the ride!\n",
      "Congratulations on your first year of driving. Enjoy the ride!\n"
     ]
    }
   ],
   "source": [
    "checkDriverAge(92)\n",
    "checkDriverAge(18)"
   ]
  },
  {
   "cell_type": "code",
   "execution_count": 8,
   "id": "91e20aa7",
   "metadata": {},
   "outputs": [
    {
     "name": "stdout",
     "output_type": "stream",
     "text": [
      "Sorry, you are too young to drive this car. Powering off\n"
     ]
    }
   ],
   "source": [
    "checkDriverAge1()"
   ]
  },
  {
   "cell_type": "code",
   "execution_count": 12,
   "id": "1fc34548",
   "metadata": {},
   "outputs": [
    {
     "name": "stdout",
     "output_type": "stream",
     "text": [
      "Hello from a function\n",
      "Hello from a method\n",
      "Hello\n",
      "HELLO\n"
     ]
    }
   ],
   "source": [
    "# methods vs functions\n",
    "# methods are owned by the object , and are called on the object , using dot notation\n",
    "# functions are not owned by the object\n",
    "\n",
    "# functions\n",
    "def my_function():\n",
    "    print(\"Hello from a function\")\n",
    "\n",
    "my_function()\n",
    "\n",
    "# methods\n",
    "class MyClass:\n",
    "    def my_method(self):\n",
    "        print(\"Hello from a method\")\n",
    "\n",
    "my_object = MyClass()\n",
    "my_object.my_method()\n",
    "\n",
    "print('hello'.capitalize()) # here string is an object, and capitalize is a method of the string object\n",
    "print('hello'.upper()) # here string is an object, and upper is a method of the string object\n",
    "# end of the day , both functions and methods allow us to re-use code , allow us to take actions on data,\n",
    "# and allow us to make our code more readable and maintainable"
   ]
  },
  {
   "cell_type": "code",
   "execution_count": 14,
   "id": "13662430",
   "metadata": {},
   "outputs": [
    {
     "name": "stdout",
     "output_type": "stream",
     "text": [
      "Help on function add in module __main__:\n",
      "\n",
      "add(a, b)\n",
      "    This function takes two numbers and returns their sum\n",
      "\n"
     ]
    }
   ],
   "source": [
    "# docstrings\n",
    "# docstrings are used to document the code\n",
    "# docstrings are used to document the function, and are written in triple quotes\n",
    "# docstrings are used to document the class, and are written in triple quotes\n",
    "def add(a, b):\n",
    "    \"\"\"This function takes two numbers and returns their sum\"\"\"\n",
    "    return a + b\n",
    "\n",
    "add(3,4)\n",
    "# if another person is using the function , they will know what the function does\n",
    "# by hovering over the function name\n",
    "# or by using the help function\n",
    "help(add)"
   ]
  },
  {
   "cell_type": "code",
   "execution_count": 15,
   "id": "416ec313",
   "metadata": {},
   "outputs": [],
   "source": [
    "# clean code\n",
    "# clean code is code that is easy to read and understand\n",
    "def validate_inputs(data):\n",
    "    \"\"\"Check data inputs for validity.\"\"\"\n",
    "    if not data:\n",
    "        return False\n",
    "    return True\n",
    "\n",
    "def format_code(code):\n",
    "    \"\"\"Format code according to style guide.\"\"\"\n",
    "    lines = code.split('\\n')\n",
    "    indented = [line.strip() for line in lines]\n",
    "    return '\\n'.join(indented)"
   ]
  },
  {
   "cell_type": "code",
   "execution_count": 17,
   "id": "40a08734",
   "metadata": {},
   "outputs": [
    {
     "data": {
      "text/plain": [
       "True"
      ]
     },
     "execution_count": 17,
     "metadata": {},
     "output_type": "execute_result"
    }
   ],
   "source": [
    "validate_inputs(\"Enter your name: \")"
   ]
  },
  {
   "cell_type": "code",
   "execution_count": 23,
   "id": "2662a1f5",
   "metadata": {},
   "outputs": [
    {
     "name": "stdout",
     "output_type": "stream",
     "text": [
      "False\n"
     ]
    }
   ],
   "source": [
    "# clean code\n",
    "def is_even(num):\n",
    "    return num % 2 == 0\n",
    "\n",
    "print(is_even(31))"
   ]
  },
  {
   "cell_type": "code",
   "execution_count": 19,
   "id": "e039bcf9",
   "metadata": {},
   "outputs": [
    {
     "name": "stdout",
     "output_type": "stream",
     "text": [
      "def my_function():\n",
      "print('Hello World')\n",
      "\n"
     ]
    }
   ],
   "source": [
    "print(format_code(\"def my_function():\\n    print('Hello World')\\n\"))\n",
    "# clean code is code that is easy to read and understand"
   ]
  },
  {
   "cell_type": "code",
   "execution_count": 27,
   "id": "6dd0d7b5",
   "metadata": {},
   "outputs": [
    {
     "name": "stdout",
     "output_type": "stream",
     "text": [
      "6.5\n",
      "3.0\n",
      "cool :  {'fruit': 'apple', 'veggie': 'lettuce'}\n",
      "My fruit of choice is apple\n",
      "(10, 20, 30)\n",
      "{'fruit': 'orange', 'food': 'eggs', 'animal': 'dog'}\n",
      "I would like 10 eggs\n",
      "10\n",
      "(20, 30)\n",
      "5\n",
      "{'fruit': 'orange', 'food': 'eggs', 'animal': 'dog'}\n"
     ]
    }
   ],
   "source": [
    "## *args and **kwargs\n",
    "## *args - allows us to pass an arbitrary number of arguments to a function\n",
    "## *args is a tuple of arguments\n",
    "def myfunc(*args):\n",
    "    return sum(args) * 0.05\n",
    "\n",
    "print(myfunc(40, 60, 20, 10))\n",
    "\n",
    "def myfunc1(*args):\n",
    "    return max(args) * 0.05\n",
    "\n",
    "print(myfunc1(40,60,20))\n",
    "\n",
    "## **kwargs - allows us to pass an arbitrary number of keyword arguments to a function\n",
    "## **kwargs is a dictionary of keyword arguments\n",
    "def myfunc3(**kwargs):\n",
    "    print('cool : ',kwargs)\n",
    "    if 'fruit' in kwargs:\n",
    "        print('My fruit of choice is {}'.format(kwargs['fruit']))\n",
    "    else:\n",
    "        print('I did not find any fruit here')\n",
    "\n",
    "myfunc3(fruit='apple', veggie='lettuce')\n",
    "\n",
    "## *args and **kwargs combined\n",
    "def myfunc2(*args, **kwargs):\n",
    "    print(args)\n",
    "    print(kwargs)\n",
    "    print('I would like {} {}'.format(args[0],kwargs['food']))\n",
    "\n",
    "myfunc2(10,20,30,fruit='orange',food='eggs',animal='dog')\n",
    "\n",
    "# Rule : params, *args, default parameters, **kwargs\n",
    "def myfunc4(a, *args, b=5, **kwargs):\n",
    "    print(a)\n",
    "    print(args)\n",
    "    print(b)\n",
    "    print(kwargs)\n",
    "\n",
    "myfunc4(10,20,30,fruit='orange',food='eggs',animal='dog')"
   ]
  },
  {
   "cell_type": "code",
   "execution_count": 28,
   "id": "61daf194",
   "metadata": {},
   "outputs": [
    {
     "name": "stdout",
     "output_type": "stream",
     "text": [
      "10\n"
     ]
    }
   ],
   "source": [
    "def highest_even(li):\n",
    "    \"\"\"Returns the highest even number in a list.\"\"\"\n",
    "    evens = []\n",
    "    for num in li:\n",
    "        if num % 2 == 0:\n",
    "            evens.append(num)\n",
    "    return max(evens)\n",
    "\n",
    "print(highest_even([10,2,3,4,8,11]))"
   ]
  },
  {
   "cell_type": "code",
   "execution_count": 4,
   "id": "d8770b51",
   "metadata": {},
   "outputs": [
    {
     "name": "stdout",
     "output_type": "stream",
     "text": [
      "List is too long (18 elements, expected <= 10)\n"
     ]
    }
   ],
   "source": [
    "# walrus Operator := , new feature and always go through the documentation\n",
    "# https://docs.python.org/3/whatsnew/3.8.html\n",
    "# There is new syntax := that assigns values to variables as part of a larger expression.\n",
    "# In this example, the assignment expression helps avoid calling len() twice:\n",
    "a = 'Helllooooooooooooo'\n",
    "if (n := len(a)) > 10: # here we are assigning the length of the string to n and then checking if it is greater than 10\n",
    "    print(f\"List is too long ({n} elements, expected <= 10)\") # here we are printing the length of the string\n",
    "\n"
   ]
  },
  {
   "cell_type": "code",
   "execution_count": 6,
   "id": "da7a918a",
   "metadata": {},
   "outputs": [
    {
     "name": "stdout",
     "output_type": "stream",
     "text": [
      "100\n",
      "100\n",
      "2\n",
      "5\n",
      "inner: nonlocal\n",
      "outer: nonlocal\n"
     ]
    }
   ],
   "source": [
    "# scope - what variables do I have access to?\n",
    "total = 100 # global scope\n",
    "print(total) # 100\n",
    "def some_func():\n",
    "    total = 100 # local scope\n",
    "    print(total) # 100\n",
    "some_func() # 100\n",
    "a=2\n",
    "def confusion():\n",
    "    a = 5\n",
    "    return a\n",
    "print(a) # 2\n",
    "print(confusion()) # 5\n",
    "def outer():\n",
    "    x = \"local\"\n",
    "    def inner():\n",
    "        nonlocal x\n",
    "        x = \"nonlocal\"\n",
    "        print(\"inner:\", x)\n",
    "    inner()\n",
    "    print(\"outer:\", x)\n",
    "outer()\n",
    "# scope rules\n",
    "# start with local\n",
    "# parent local?\n",
    "# global\n",
    "# built in python functions\n",
    "\n"
   ]
  },
  {
   "cell_type": "code",
   "execution_count": null,
   "id": "55e5d600",
   "metadata": {},
   "outputs": [
    {
     "name": "stdout",
     "output_type": "stream",
     "text": [
      "15\n",
      "15\n"
     ]
    }
   ],
   "source": [
    "# global keyword\n",
    "# global keyword allows us to modify a global variable inside a function\n",
    "a = 10\n",
    "\n",
    "def f1():\n",
    "    global a\n",
    "    a = 15\n",
    "    print(a)\n",
    "\n",
    "f1()\n",
    "print(a)\n"
   ]
  },
  {
   "cell_type": "code",
   "execution_count": 11,
   "id": "f7a0cfb3",
   "metadata": {},
   "outputs": [
    {
     "name": "stdout",
     "output_type": "stream",
     "text": [
      "Inside function\n",
      "outer: local\n",
      "Before calling inner: local\n",
      "Inside inner function\n",
      "inner: nonlocal\n",
      "After calling inner: nonlocal\n",
      "outer: nonlocal\n",
      "global: nochange\n"
     ]
    }
   ],
   "source": [
    "# nonlocal keyword\n",
    "# nonlocal keyword allows us to modify a variable in the nearest enclosing scope that is not global\n",
    "x = \"nochange\"\n",
    "def outer():\n",
    "    print(\"Inside function\")\n",
    "    x = \"local\"\n",
    "    print(\"outer:\", x)\n",
    "    def inner():\n",
    "        \n",
    "        print(\"Inside inner function\")\n",
    "        nonlocal x\n",
    "        x = \"nonlocal\"\n",
    "        print(\"inner:\", x)\n",
    "    print(\"Before calling inner:\", x)\n",
    "    inner()\n",
    "    print(\"After calling inner:\", x)\n",
    "    print(\"outer:\", x)\n",
    "outer()\n",
    "print(\"global:\", x)"
   ]
  },
  {
   "cell_type": "code",
   "execution_count": null,
   "id": "44f4646c",
   "metadata": {},
   "outputs": [],
   "source": []
  }
 ],
 "metadata": {
  "kernelspec": {
   "display_name": "Python 3",
   "language": "python",
   "name": "python3"
  },
  "language_info": {
   "codemirror_mode": {
    "name": "ipython",
    "version": 3
   },
   "file_extension": ".py",
   "mimetype": "text/x-python",
   "name": "python",
   "nbconvert_exporter": "python",
   "pygments_lexer": "ipython3",
   "version": "3.12.10"
  }
 },
 "nbformat": 4,
 "nbformat_minor": 5
}
