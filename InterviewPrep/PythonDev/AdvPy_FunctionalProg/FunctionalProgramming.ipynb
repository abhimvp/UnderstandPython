{
 "cells": [
  {
   "cell_type": "markdown",
   "id": "203ac2e5",
   "metadata": {},
   "source": [
    "Advanced Python : Functional Programming"
   ]
  },
  {
   "cell_type": "code",
   "execution_count": 3,
   "id": "8c9f31df",
   "metadata": {},
   "outputs": [
    {
     "data": {
      "text/plain": [
       "[2, 4, 6, 8]"
      ]
     },
     "execution_count": 3,
     "metadata": {},
     "output_type": "execute_result"
    }
   ],
   "source": [
    "# Pure functions\n",
    "def multiply_by_two(li):\n",
    "    new_list = []\n",
    "    for item in li:\n",
    "        new_list.append(item * 2)\n",
    "    return new_list\n",
    "\n",
    "\n",
    "multiply_by_two(\n",
    "    [1, 2, 3, 4]\n",
    ")  # always gives same output for same input & doesn't have any side effects - nothing in the outside world matters to this func."
   ]
  },
  {
   "cell_type": "code",
   "execution_count": 4,
   "id": "eb02441c",
   "metadata": {},
   "outputs": [
    {
     "data": {
      "text/plain": [
       "[2, 4, 6, 8]"
      ]
     },
     "execution_count": 4,
     "metadata": {},
     "output_type": "execute_result"
    }
   ],
   "source": [
    "# side effects looks like\n",
    "def multiply_by_2(li):\n",
    "    for i in range(len(li)):\n",
    "        li[i] = li[i] * 2\n",
    "    return li\n",
    "\n",
    "\n",
    "multiply_by_2([1, 2, 3, 4])  # changes the original list\n",
    "# this is not pure function, it has side effects\n",
    "#  using print statements, modifying global variables, etc. are side effects"
   ]
  },
  {
   "cell_type": "code",
   "execution_count": 13,
   "id": "5b84deca",
   "metadata": {},
   "outputs": [
    {
     "name": "stdout",
     "output_type": "stream",
     "text": [
      "<map object at 0x000001D0001565F0>\n",
      " map returns a  map object, we can convert it to a list or tuple\n",
      "[6, 10, 12, 14, 20]\n",
      "(6, 10, 12, 14, 20)\n",
      "['john', 'mary', 'bob', 'sara', 'alice']\n"
     ]
    }
   ],
   "source": [
    "# map - is available as a built-in function in python , we give a function and an iterable,\n",
    "# like map(action_function, data_to_act_on) - let's look at an example - map(func, *iterables) --> map object\n",
    "def multiply_by_twoo(item):\n",
    "    return item * 2\n",
    "\n",
    "print(map(multiply_by_twoo,[3,5,6,7,10]))\n",
    "print(\" map returns a  map object, we can convert it to a list or tuple\")\n",
    "print(list(map(multiply_by_twoo,[3,5,6,7,10]))) # here we take each item from the list and apply the function to it, and return a new list with the results\n",
    "print(tuple(map(multiply_by_twoo,[3,5,6,7,10]))) # here we take each item from the list and apply the function to it, and return a new tuple with the results\n",
    "# map automatically runs the func for us and loops through the iterable & returns a new map object , that we can convert to a list or tuple\n",
    "#  map will be useful in many ways for example if we want to update username into lower_case , we can simply use map\n",
    "def make_lower_case(item):\n",
    "    return item.lower()\n",
    "\n",
    "usernames = [\"John\", \"Mary\", \"Bob\", \"Sara\", \"Alice\"]\n",
    "print(list(map(make_lower_case, usernames)))"
   ]
  },
  {
   "cell_type": "code",
   "execution_count": 15,
   "id": "9f11b5ee",
   "metadata": {},
   "outputs": [
    {
     "name": "stdout",
     "output_type": "stream",
     "text": [
      "list of numbers: [1, 2, 3, 4, 5, 6, 7, 8, 9, 10]\n",
      "[1, 3, 5, 7, 9]\n"
     ]
    }
   ],
   "source": [
    "# filter -  what it does , it filters out the items from the iterable based on a function that returns True or False\n",
    "def check_if_odd(num):\n",
    "    return num % 2 != 0 # returns False if even, True if odd\n",
    "\n",
    "numbers = [1,2,3,4,5,6,7,8,9,10]\n",
    "print(\"list of numbers:\", numbers)\n",
    "# filter(function or None, iterable) --> filter object\n",
    "print(list(filter(check_if_odd, numbers))) # returns a new list with only the odd numbers from the original list"
   ]
  },
  {
   "cell_type": "code",
   "execution_count": 18,
   "id": "322094eb",
   "metadata": {},
   "outputs": [
    {
     "name": "stdout",
     "output_type": "stream",
     "text": [
      "<class 'zip'>\n",
      "<zip object at 0x000001D000D72D40>\n",
      "('Dude', 'p@ssword')\n",
      "('Bro', 'abc123')\n",
      "('Mister', 'guest')\n",
      "('Dude', 'p@ssword')\n",
      "{'Dude': 'p@ssword', 'Bro': 'abc123', 'Mister': 'guest'}\n",
      "[('Dude', 'p@ssword'), ('Bro', 'abc123'), ('Mister', 'guest'), ('Dude', 'p@ssword')]\n",
      "{('Mister', 'guest'), ('Bro', 'abc123'), ('Dude', 'p@ssword')}\n"
     ]
    }
   ],
   "source": [
    "# zip -  it takes two or more iterables and combines them into a single iterable, \n",
    "# where each element is a tuple containing the corresponding elements from each iterable.\n",
    "# It stops when the shortest iterable is exhausted.\n",
    "# zip(*iterables, strict=False) --> Yield tuples until an input is exhausted.\n",
    "\n",
    "# >>> list(zip('abcdefg', range(3), range(4)))\n",
    "#    [('a', 0, 0), ('b', 1, 1), ('c', 2, 2)]\n",
    "\n",
    "usernames = [\"Dude\", \"Bro\", \"Mister\",\"Dude\"]\n",
    "passwords = [\"p@ssword\", \"abc123\", \"guest\",\"p@ssword\"]\n",
    "\n",
    "users = zip(usernames, passwords)\n",
    "\n",
    "print(type(users))  # <class 'zip'>\n",
    "print(users)  # <zip object at 0x7f8c1c0e2b80>\n",
    "\n",
    "for i in users:\n",
    "    print(i)  # ('Dude', 'p@ssword') ('Bro', 'abc123') ('Mister', 'guest')\n",
    "\n",
    "# convert to a dictionary\n",
    "users = dict(zip(usernames, passwords))\n",
    "print(users)  # {'Dude': 'p@ssword', 'Bro': 'abc123', 'Mister': 'guest'}\n",
    "\n",
    "# convert to a list\n",
    "users = list(zip(usernames, passwords))\n",
    "print(users)  # [('Dude', 'p@ssword'), ('Bro', 'abc123'), ('Mister', 'guest')]\n",
    "\n",
    "# convert to a set\n",
    "users = set(zip(usernames, passwords))\n",
    "print(users)  # {('Mister', 'guest'), ('Dude', 'p@ssword'), ('Bro', 'abc123')}"
   ]
  },
  {
   "cell_type": "code",
   "execution_count": null,
   "id": "97045b09",
   "metadata": {},
   "outputs": [
    {
     "name": "stdout",
     "output_type": "stream",
     "text": [
      "accumulator is 34 & item from my_list is 9\n",
      "accumulator is 43 & item from my_list is 2\n",
      "accumulator is 45 & item from my_list is 3\n",
      "accumulator is 48 & item from my_list is 4\n",
      "accumulator is 52 & item from my_list is 5\n",
      "57\n"
     ]
    }
   ],
   "source": [
    "# reduce() -  is a function that takes a function and an iterable and applies the function cumulatively to the items of the iterable,\n",
    "# reducing the iterable to a single value. It is part of the functools module in Python.\n",
    "\n",
    "# functools.py - Tools for working with functions and callable objects\n",
    "from functools import reduce\n",
    "# reduce(function, iterable[, initial]) -> value\n",
    "\n",
    "# Apply a function of two arguments cumulatively to the items of an iterable, from left to right.\n",
    "\n",
    "# This effectively reduces the iterable to a single value. If initial is present,\n",
    "# it is placed before the items of the iterable in the calculation, and serves as\n",
    "# a default when the iterable is empty.\n",
    "# reduce(function, iterable[, initial]) -> value\n",
    "\n",
    "# Example 1: Sum of a list of numbers\n",
    "my_list = [9, 2, 3, 4, 5]\n",
    "def accumulator(acc,item):\n",
    "    \"\"\"\n",
    "    Accumulates the sum of items in a list.\n",
    "\n",
    "    Args:\n",
    "        acc (int): The accumulated sum so far.\n",
    "        item (int): The current item in the list.\n",
    "\n",
    "    Returns:\n",
    "        int: The updated accumulated sum.\n",
    "    \"\"\"\n",
    "    print(f\"accumulator is {acc} & item from my_list is {item}\")\n",
    "    return acc + item\n",
    "# reduce(function, iterable, initial) -> value\n",
    "# The first argument is the function that takes two arguments (acc and item).\n",
    "# The second argument is the iterable (my_list). The third argument is the initial value (0).\n",
    "print(reduce(accumulator, my_list, 34)) # 34 + 9 + 2 + 3 + 4 + 5 = 57"
   ]
  },
  {
   "cell_type": "code",
   "execution_count": 29,
   "id": "412fa113",
   "metadata": {},
   "outputs": [
    {
     "name": "stdout",
     "output_type": "stream",
     "text": [
      "Original pet names: ['sisi', 'bibi', 'titi', 'carla']\n",
      "Capitalized pet names: ['Sisi', 'Bibi', 'Titi', 'Carla']\n",
      "before sorting: [('a', 5), ('b', 4), ('c', 3), ('d', 2), ('e', 1)]\n",
      "after sorting:\n",
      "after sorting: [('a', 1), ('b', 2), ('c', 3), ('d', 4), ('e', 5)]\n",
      "[73, 65, 76, 100, 88]\n",
      "[1, 2, 3, 4, 5, 73, 65, 76, 100, 88]\n",
      "accumulator is 1 & item from my_list is 2\n",
      "accumulator is 3 & item from my_list is 3\n",
      "accumulator is 6 & item from my_list is 4\n",
      "accumulator is 10 & item from my_list is 5\n",
      "accumulator is 15 & item from my_list is 73\n",
      "accumulator is 88 & item from my_list is 65\n",
      "accumulator is 153 & item from my_list is 76\n",
      "accumulator is 229 & item from my_list is 100\n",
      "accumulator is 329 & item from my_list is 88\n",
      "417\n"
     ]
    }
   ],
   "source": [
    "# some fun exercises\n",
    "from functools import reduce\n",
    "\n",
    "# 1 Capitalize all of the pet names and print the list\n",
    "my_pets = [\"sisi\", \"bibi\", \"titi\", \"carla\"]\n",
    "print(\"Original pet names:\", my_pets)\n",
    "\n",
    "\n",
    "def capitalize_pets(pet):\n",
    "    return pet.capitalize()\n",
    "\n",
    "\n",
    "# Using map to capitalize all pet names\n",
    "capitalized_pets = list(map(capitalize_pets, my_pets))\n",
    "print(\"Capitalized pet names:\", capitalized_pets)\n",
    "\n",
    "\n",
    "# 2 Zip the 2 lists into a list of tuples, but sort the numbers from lowest to highest.\n",
    "my_strings = [\"a\", \"b\", \"c\", \"d\", \"e\"]\n",
    "my_numbers = [5, 4, 3, 2, 1]\n",
    "lets_zip = zip(my_strings, my_numbers)\n",
    "print(\"before sorting:\", list(lets_zip))\n",
    "print(\"after sorting:\")\n",
    "# sort the numbers from lowest to highest\n",
    "my_numbers.sort()\n",
    "# now zip the two lists together\n",
    "lets_zip = zip(my_strings, my_numbers)\n",
    "print(\"after sorting:\", list(lets_zip))\n",
    "\n",
    "# 3 Filter the scores that pass over 50%\n",
    "scores = [73, 20, 65, 19, 76, 100, 88]\n",
    "\n",
    "\n",
    "def pass_over_50(score):\n",
    "    return score >= 50\n",
    "\n",
    "\n",
    "score = list(filter(pass_over_50, scores))\n",
    "print(score)  # [73, 65, 76, 100, 88]\n",
    "\n",
    "\n",
    "# 4 Combine all of the numbers that are in a list on this file using reduce (my_numbers and scores). What is the total?\n",
    "\n",
    "print(my_numbers + score)\n",
    "print(reduce(accumulator, (my_numbers + score)))"
   ]
  },
  {
   "cell_type": "code",
   "execution_count": 31,
   "id": "a9e3ba3a",
   "metadata": {},
   "outputs": [
    {
     "name": "stdout",
     "output_type": "stream",
     "text": [
      "[2, 4, 6]\n",
      "[1, 3]\n",
      "6\n",
      "[1, 2, 3]\n"
     ]
    }
   ],
   "source": [
    "# lambda expressions - are one time anonymous functions that you don't need more than once\n",
    "# they are used to avoid creating a whole function and then calling it\n",
    "# they are useful when you need to use a function only once\n",
    "\n",
    "from functools import reduce\n",
    "\n",
    "my_list = [1, 2, 3]\n",
    "\n",
    "def multiply_by2(item):\n",
    "    return item * 2\n",
    "\n",
    "def only_odd(item):\n",
    "    return item % 2 != 0\n",
    "\n",
    "def accumulator(acc, item):\n",
    "    print(acc, item)\n",
    "    return acc + item\n",
    "\n",
    "# lambda param : action_on_param , like lambda x : x * 2\n",
    "\n",
    "# This line of code is using a lambda expression with the `map` function to multiply each item in the `my_list` by 2.\n",
    "print(list(map(lambda item: item * 2, my_list))) # we don't need multiply_by2 function anymore\n",
    "# This line of code is using a lambda expression with the `filter` function to filter out only the odd numbers from the `my_list`.\n",
    "print(list(filter(lambda item: item % 2 != 0, my_list))) # we don't need only_odd function anymore\n",
    "# This line of code is using a lambda expression with the `reduce` function to accumulate the sum of all items in the `my_list`.\n",
    "print(reduce(lambda acc, item: acc + item, my_list, 0)) # we don't need accumulator function anymore\n",
    "print(my_list)\n"
   ]
  },
  {
   "cell_type": "code",
   "execution_count": 39,
   "id": "71bc4d25",
   "metadata": {},
   "outputs": [
    {
     "name": "stdout",
     "output_type": "stream",
     "text": [
      "[25, 16, 9]\n",
      "2\n",
      "[(10, -1), (0, 2), (4, 3), (9, 9)]\n"
     ]
    }
   ],
   "source": [
    "# some fun with lambda expression \n",
    "my_new_list=[5,4,3]\n",
    "# let's square the list\n",
    "print(list(map(lambda x: x**2,my_new_list)))\n",
    "# List sorting\n",
    "a =[(0,2), (4,3), (9,9), (10, -1)]\n",
    "print(a[0][1])\n",
    "print(sorted(a, key=lambda x: x[1])) # sort by second element of the tuple\n",
    "# If a key function is given, apply it once to each list item and sort them, ascending or descending, according to their function values."
   ]
  },
  {
   "cell_type": "code",
   "execution_count": 41,
   "id": "5fd68a95",
   "metadata": {},
   "outputs": [
    {
     "name": "stdout",
     "output_type": "stream",
     "text": [
      "Squares: [0, 1, 4, 9, 16, 25, 36, 49, 64, 81]\n",
      "Evens: [0, 2, 4, 6, 8]\n",
      "Tuples: [(0, 0), (1, 1), (2, 4), (3, 9), (4, 16)]\n",
      "Uppercase letters: ['H', 'E', 'L', 'L', 'O', 'W', 'O', 'R', 'L', 'D']\n"
     ]
    }
   ],
   "source": [
    "# list comprehensions - is a concise way to create lists in Python. It allows you to generate a new list by applying an expression to each item in an existing iterable (like a list, tuple, or string) and optionally filtering items based on a condition.\n",
    "# List comprehensions are often more readable and faster than using traditional loops to create lists.\n",
    "\n",
    "# The basic syntax of a list comprehension is:\n",
    "# [expression for item in iterable if condition]\n",
    "# where:\n",
    "# - expression: the value to be included in the new list (can be a function call, operation, etc.)\n",
    "# - item: the variable that takes the value of each element in the iterable\n",
    "# - iterable: the collection you want to iterate over (like a list, tuple, or string)\n",
    "# - condition: an optional filter that determines whether to include the item in the new list (if True, include it; if False, exclude it)\n",
    "# Let's look at some examples:\n",
    "\n",
    "# Example 1: Create a list of squares of numbers from 0 to 9\n",
    "squares = [x**2 for x in range(10)]\n",
    "print(\"Squares:\", squares)  # [0, 1, 4, 9, 16, 25, 36, 49, 64, 81]\n",
    "# Example 2: Create a list of even numbers from 0 to 9\n",
    "evens = [x for x in range(10) if x % 2 == 0]\n",
    "print(\"Evens:\", evens)  # [0, 2, 4, 6, 8]\n",
    "# Example 3: Create a list of tuples (number, square) for numbers from 0 to 4\n",
    "tuples = [(x, x**2) for x in range(5)]\n",
    "print(\"Tuples:\", tuples)  # [(0, 0), (1, 1), (2, 4), (3, 9), (4, 16)]\n",
    "# Example 4: Create a list of uppercase letters from a string\n",
    "my_string = \"hello world\"\n",
    "uppercase_letters = [char.upper() for char in my_string if char.isalpha()]\n",
    "print(\"Uppercase letters:\", uppercase_letters)  # ['H', 'E', 'L', 'L', 'O', 'W', 'O', 'R', 'L', 'D']"
   ]
  },
  {
   "cell_type": "code",
   "execution_count": 46,
   "id": "2b10245b",
   "metadata": {},
   "outputs": [
    {
     "name": "stdout",
     "output_type": "stream",
     "text": [
      "{64, 1, 4, 36, 100, 9, 16, 49, 81, 25}\n",
      "['r', 'e', ' ', 'h', 'o', 'd', 'l', 'w']\n",
      "{1: 1, 2: 4, 3: 9, 4: 16, 5: 25, 6: 36, 7: 49, 8: 64, 9: 81, 10: 100}\n"
     ]
    }
   ],
   "source": [
    "# set and dictionary comprehension\n",
    "# set comprehension\n",
    "s = {i**2 for i in range(1,11)}\n",
    "print(s)\n",
    "\n",
    "my_list_char = {char for char in \"hello world\"}\n",
    "print(list(my_list_char))\n",
    "\n",
    "# dictionary comprehension\n",
    "d = {i:i**2 for i in range(1,11)}\n",
    "print(d)"
   ]
  },
  {
   "cell_type": "code",
   "execution_count": null,
   "id": "d26c2ce7",
   "metadata": {},
   "outputs": [],
   "source": []
  }
 ],
 "metadata": {
  "kernelspec": {
   "display_name": "Python 3",
   "language": "python",
   "name": "python3"
  },
  "language_info": {
   "codemirror_mode": {
    "name": "ipython",
    "version": 3
   },
   "file_extension": ".py",
   "mimetype": "text/x-python",
   "name": "python",
   "nbconvert_exporter": "python",
   "pygments_lexer": "ipython3",
   "version": "3.12.10"
  }
 },
 "nbformat": 4,
 "nbformat_minor": 5
}
